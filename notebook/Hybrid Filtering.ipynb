{
 "cells": [
  {
   "cell_type": "code",
   "execution_count": 1,
   "metadata": {},
   "outputs": [],
   "source": [
    "#Python Imports\n",
    "from sklearn.decomposition import TruncatedSVD\n",
    "from sklearn.feature_extraction.text import TfidfVectorizer\n",
    "from sklearn.feature_extraction.text import HashingVectorizer\n",
    "from sklearn.feature_extraction.text import TfidfTransformer\n",
    "from sklearn.pipeline import make_pipeline\n",
    "from sklearn.preprocessing import Normalizer\n",
    "from sklearn import metrics\n",
    "from sklearn.cluster import KMeans, MiniBatchKMeans\n",
    "import logging\n",
    "from optparse import OptionParser\n",
    "import sys\n",
    "from time import time\n",
    "import numpy as np\n",
    "from sklearn.feature_extraction.text import CountVectorizer\n",
    "import pickle\n",
    "import pandas as pd\n",
    "import re\n",
    "from pandas.io.json import json_normalize\n",
    "import json\n",
    "import pandas as pd\n",
    "import numpy as np\n",
    "\n",
    "from surprise import SVD, accuracy\n",
    "from surprise.model_selection import cross_validate, train_test_split\n",
    "from surprise import Dataset\n",
    "from surprise import Reader\n",
    "from surprise.prediction_algorithms.knns import KNNWithZScore, KNNBaseline\n",
    "from surprise.prediction_algorithms.matrix_factorization import NMF\n",
    "\n",
    "from pandas.io.json import json_normalize\n",
    "from pymongo import MongoClient\n",
    "from collections import defaultdict\n",
    "from sklearn.datasets import fetch_20newsgroups\n",
    "from sklearn.decomposition import TruncatedSVD\n",
    "from sklearn.feature_extraction.text import TfidfVectorizer\n",
    "from sklearn.feature_extraction.text import HashingVectorizer\n",
    "from sklearn.feature_extraction.text import TfidfTransformer\n",
    "from sklearn.pipeline import make_pipeline\n",
    "from sklearn.preprocessing import Normalizer\n",
    "from sklearn.feature_extraction.text import TfidfVectorizer\n",
    "from sklearn import metrics\n",
    "import re\n",
    "from sklearn.cluster import KMeans, MiniBatchKMeans\n",
    "import logging\n",
    "from optparse import OptionParser\n",
    "import sys\n",
    "from time import time\n",
    "from sklearn.decomposition import TruncatedSVD\n",
    "import numpy as np\n",
    "from sklearn.feature_extraction.text import CountVectorizer\n",
    "import pickle\n",
    "import pandas as pd\n",
    "from sklearn.metrics.pairwise import cosine_similarity\n",
    "from sklearn.metrics.pairwise import linear_kernel\n",
    "from ast import literal_eval"
   ]
  },
  {
   "cell_type": "code",
   "execution_count": 2,
   "metadata": {},
   "outputs": [],
   "source": [
    "def convert_ids(ids_in_csv):\n",
    "    return pd.to_numeric(ids_in_csv, errors='coerce').astype('int64')\n",
    "\n",
    "def convert_to_float(ids_in_csv):\n",
    "    return pd.to_numeric(ids_in_csv, errors='coerce').astype('float64')\n",
    "\n",
    "def to_json(csv_entry):\n",
    "    return json.loads(re.sub('\\'', '\"', csv_entry))\n",
    "\n",
    "\n",
    "def get_top_n(predictions, n=200):\n",
    "    '''SUPRISE API\n",
    "    Return the top-N recommendation for each user from a set of predictions.\n",
    "\n",
    "    Args:\n",
    "        predictions(list of Prediction objects): The list of predictions, as\n",
    "            returned by the test method of an algorithm.\n",
    "        n(int): The number of recommendation to output for each user. Default\n",
    "            is 10.\n",
    "\n",
    "    Returns:\n",
    "    A dict where keys are user (raw) ids and values are lists of tuples:\n",
    "        [(raw item id, rating estimation), ...] of size n.\n",
    "    '''\n",
    "\n",
    "    # First map the predictions to each user.\n",
    "    top_n = defaultdict(list)\n",
    "    for uid, iid, true_r, est, _ in predictions:\n",
    "        top_n[uid].append((iid, est))\n",
    "\n",
    "    # Then sort the predictions for each user and retrieve the k highest ones.\n",
    "    for uid, user_ratings in top_n.items():\n",
    "        user_ratings.sort(key=lambda x: x[1], reverse=True)\n",
    "        top_n[uid] = user_ratings[:n]\n",
    "\n",
    "    return top_n\n",
    "\n",
    "def get_movie_name(movie_id):\n",
    "    return ratings_with_movie_names[ratings_with_movie_names.id == movie_id]['title'].iloc[0]\n",
    "\n",
    "\n",
    "def print_user_prediction(userId, predictions_dict, meta_df):\n",
    "    users_viewed_movies = ratings_with_movie_names[ratings_with_movie_names['userId'] == userId][\n",
    "        ['rating', 'original_title']]\n",
    "    print(f'User {userId} has viewed the following movies:\\n')\n",
    "\n",
    "    for row in users_viewed_movies.itertuples():\n",
    "        rating = row[1]\n",
    "        original_title = row[2]\n",
    "        print(f'\\t{original_title}, Rating: {rating}')\n",
    "\n",
    "    print(f'\\nThe following movies are recommended for User {userId}\\n')\n",
    "    recommended_movies = [get_movie_name(mov_id[0], meta_df) for mov_id in predictions_dict[userId]]\n",
    "\n",
    "    for movie in recommended_movies:\n",
    "        print(f'\\t{movie}')\n",
    "\n",
    "def get_movie_name(movie_id, movie_meta_df):\n",
    "    return movie_meta_df[movie_meta_df.id == movie_id]['title'].iloc[0]\n",
    "\n",
    "def get_movie_id(title, movie_meta_df):\n",
    "    return movie_meta_df[movie_meta_df.title == title]['id'].iloc[0]\n",
    "\n",
    "\n",
    "def get_all_movies_in_cluster(cluster_number, cluster_dict, meta_df):\n",
    "    movies = cluster_dict[cluster_number]\n",
    "    return [get_movie_name(mov, meta_df) for mov in movies]\n",
    "\n",
    "def get_cluster_number(movie, cluster_zip):\n",
    "    for cluster, movie_id in cluster_zip:\n",
    "\n",
    "        if movie_id == movie:\n",
    "            return cluster\n",
    "\n",
    "    raise Exception('Movie not found in cluster')"
   ]
  },
  {
   "cell_type": "code",
   "execution_count": 3,
   "metadata": {},
   "outputs": [
    {
     "name": "stderr",
     "output_type": "stream",
     "text": [
      "/usr/local/lib/python3.7/site-packages/IPython/core/interactiveshell.py:3058: DtypeWarning: Columns (10) have mixed types. Specify dtype option on import or set low_memory=False.\n",
      "  interactivity=interactivity, compiler=compiler, result=result)\n"
     ]
    }
   ],
   "source": [
    "movies_metadata_df1 = pd.read_csv('the-movies-dataset/movies_metadata.csv'\n",
    "                                 , converters={ 'id': lambda x: convert_ids(x)\n",
    "                                               , 'imdb_id': lambda x: convert_ids(x)\n",
    "                                               ,'popularity': lambda x: convert_to_float(x)\n",
    "                                               ,'genres': lambda x: to_json(x)}\n",
    "                                 , usecols=['id', 'original_title'\n",
    "                                                , 'genres' #'homepage'\n",
    "                                                , 'overview', 'popularity', 'poster_path'\n",
    "                                                , 'release_date', 'revenue', 'runtime'\n",
    "                                                , 'spoken_languages', 'title'\n",
    "                                                , 'vote_average', 'vote_count']\n",
    "                                , dtype={'populariy': np.float64}\n",
    "                                , parse_dates=True)\n",
    "\n",
    "\n",
    "movies_lookup_df = pd.read_csv('the-movies-dataset/movies_metadata.csv'\n",
    "                        , converters={'id': lambda x: convert_ids(x), 'imdb_id': lambda x: convert_ids(x)}\n",
    "                       ,usecols=['id', 'title'])\n",
    "\n",
    "#####################################\n",
    "##SVD DATA SET\n",
    "movies_df = pd.read_csv('the-movies-dataset/movies_metadata.csv'\n",
    "                        , converters={'id': lambda x: convert_ids(x), 'imdb_id': lambda x: convert_ids(x)}\n",
    "                       ,usecols=['id', 'original_title', 'belongs_to_collection'\n",
    "                                 , 'budget', 'genres', 'homepage'\n",
    "                                 ,'imdb_id', 'overview', 'popularity', 'poster_path'\n",
    "                                 , 'production_companies','release_date', 'revenue', 'runtime',\n",
    "                                 'spoken_languages', 'status', 'tagline', 'title', 'video',\n",
    "                                 'vote_average', 'vote_count'])\n",
    "#####################################\n",
    "\n",
    "ratings_df = pd.read_csv('the-movies-dataset/ratings_small.csv')\n",
    "\n",
    "\n",
    "\n",
    "# content_filter_df = pd.read_pickle('content_filter_df.pkl')\n",
    "# content_filter_df = content_filter_df[['id',\n",
    "#  'popularity',\n",
    "#  #'release_date',\n",
    "#  'vote_average',\n",
    "#  'release_year',\n",
    "#  0,1,2,3,4,5, 6, 7, 8,9,10,11,12,13,14,15,16,17,18,19]]\n",
    "# content_filter_df = content_filter_df.dropna()\n",
    "\n",
    "# idx = pd.Index(content_filter_df['id'])\n",
    "# idx\n",
    "# content_filter_df.index = idx"
   ]
  },
  {
   "cell_type": "code",
   "execution_count": 4,
   "metadata": {},
   "outputs": [],
   "source": [
    "###May need Fuzzy matching, but for now:\n",
    "movies_df = movies_df[movies_df.spoken_languages == \"\"\"[{'iso_639_1': 'en', 'name': 'English'}]\"\"\"]"
   ]
  },
  {
   "cell_type": "code",
   "execution_count": 5,
   "metadata": {},
   "outputs": [],
   "source": [
    "ratings_with_movie_names = ratings_df.merge(movies_df[['id', 'original_title']], how='left', left_on='movieId', right_on='id')\n",
    "ratings_with_movie_names = ratings_with_movie_names[ratings_with_movie_names.original_title.isnull() == False]"
   ]
  },
  {
   "cell_type": "code",
   "execution_count": 6,
   "metadata": {},
   "outputs": [],
   "source": [
    "reader = Reader(rating_scale=(0, 5))\n",
    "data = Dataset.load_from_df(ratings_with_movie_names[['userId', 'movieId', 'rating']], reader)\n",
    "trainset = data.build_full_trainset()\n",
    "testset = trainset.build_anti_testset()"
   ]
  },
  {
   "cell_type": "markdown",
   "metadata": {},
   "source": [
    "# SVD : Collaborative Filtering"
   ]
  },
  {
   "cell_type": "code",
   "execution_count": 7,
   "metadata": {},
   "outputs": [
    {
     "name": "stdout",
     "output_type": "stream",
     "text": [
      "Processing epoch 0\n",
      "Processing epoch 1\n",
      "Processing epoch 2\n",
      "Processing epoch 3\n",
      "Processing epoch 4\n",
      "Processing epoch 5\n",
      "Processing epoch 6\n",
      "Processing epoch 7\n",
      "Processing epoch 8\n",
      "Processing epoch 9\n",
      "Processing epoch 10\n",
      "Processing epoch 11\n",
      "Processing epoch 12\n",
      "Processing epoch 13\n",
      "Processing epoch 14\n",
      "Processing epoch 15\n",
      "Processing epoch 16\n",
      "Processing epoch 17\n",
      "Processing epoch 18\n",
      "Processing epoch 19\n",
      "Evaluating RMSE, MAE of algorithm SVD on 5 split(s).\n",
      "\n",
      "                  Fold 1  Fold 2  Fold 3  Fold 4  Fold 5  Mean    Std     \n",
      "RMSE (testset)    0.8861  0.9130  0.8963  0.8826  0.9074  0.8971  0.0118  \n",
      "MAE (testset)     0.6847  0.7031  0.6988  0.6800  0.6946  0.6922  0.0087  \n",
      "Fit time          2.35    2.55    2.55    2.28    1.89    2.32    0.24    \n",
      "Test time         0.08    0.10    0.10    0.06    0.05    0.08    0.02    \n"
     ]
    },
    {
     "data": {
      "text/plain": [
       "{'test_rmse': array([0.88605672, 0.91297384, 0.89632064, 0.88259872, 0.90740724]),\n",
       " 'test_mae': array([0.68471755, 0.70313438, 0.69877428, 0.67995533, 0.69460831]),\n",
       " 'fit_time': (2.3541698455810547,\n",
       "  2.5501461029052734,\n",
       "  2.545943021774292,\n",
       "  2.2793657779693604,\n",
       "  1.893211841583252),\n",
       " 'test_time': (0.08416199684143066,\n",
       "  0.09843826293945312,\n",
       "  0.10104489326477051,\n",
       "  0.05861711502075195,\n",
       "  0.052559852600097656)}"
      ]
     },
     "execution_count": 7,
     "metadata": {},
     "output_type": "execute_result"
    }
   ],
   "source": [
    "algo = SVD(verbose=True)\n",
    "algo.fit(trainset)\n",
    "\n",
    "cross_validate(algo, data, measures=['RMSE', 'MAE'], cv=5, n_jobs=-1, verbose=True)"
   ]
  },
  {
   "cell_type": "code",
   "execution_count": 18,
   "metadata": {},
   "outputs": [],
   "source": [
    "predictions = algo.test(testset)\n",
    "### Tune this value to get fewer results faster, but less options to choose from\n",
    "top_n = get_top_n(predictions)\n",
    "\n",
    "\n",
    "predicted_movies_by_name = defaultdict(list)\n",
    "\n",
    "### This builds the dictionary of predicted movies for all users\n",
    "for key, value in top_n.items():\n",
    "    predicted_movies_by_name[key] = [get_movie_name(mov_id[0], movies_metadata_df1) for mov_id in value]"
   ]
  },
  {
   "cell_type": "code",
   "execution_count": 19,
   "metadata": {},
   "outputs": [],
   "source": [
    "from collections import namedtuple\n",
    "UserFavoriteRating = namedtuple('UserFavoriteRating', ['title', 'rating'])\n",
    "\n",
    "def users_top_n_movies(n, userId, predictions_dict, meta_df):\n",
    "    users_viewed_movies = ratings_with_movie_names[ratings_with_movie_names['userId'] == userId][['rating', 'original_title']]\n",
    "    \n",
    "    viewed_movies = []\n",
    "\n",
    "    for row in users_viewed_movies.itertuples():\n",
    "        rating = row[1]\n",
    "        original_title = row[2]\n",
    "        film = UserFavoriteRating(original_title, rating)\n",
    "        viewed_movies.append(film)\n",
    "    \n",
    "    sorted(viewed_movies, key=lambda film: film[1])\n",
    "    \n",
    "    return viewed_movies[0:n]"
   ]
  },
  {
   "cell_type": "markdown",
   "metadata": {},
   "source": [
    "# GET A USERS TOP RATED MOVIES"
   ]
  },
  {
   "cell_type": "code",
   "execution_count": 20,
   "metadata": {},
   "outputs": [
    {
     "data": {
      "text/plain": [
       "[UserFavoriteRating(title='Star Trek: The Motion Picture', rating=4.0),\n",
       " UserFavoriteRating(title='The Million Dollar Hotel', rating=4.0),\n",
       " UserFavoriteRating(title='Eyes Wide Shut', rating=4.0),\n",
       " UserFavoriteRating(title='The Conversation', rating=3.0),\n",
       " UserFavoriteRating(title='Point Break', rating=3.0),\n",
       " UserFavoriteRating(title='A Brief History of Time', rating=5.0)]"
      ]
     },
     "execution_count": 20,
     "metadata": {},
     "output_type": "execute_result"
    }
   ],
   "source": [
    "users_top_n_movies(6, 10, predicted_movies_by_name, movies_metadata_df1)"
   ]
  },
  {
   "cell_type": "markdown",
   "metadata": {},
   "source": [
    "# At this point, you should have user personas to get a pool of movies to choose from, not simply pre-made users:"
   ]
  },
  {
   "cell_type": "code",
   "execution_count": 21,
   "metadata": {},
   "outputs": [
    {
     "name": "stdout",
     "output_type": "stream",
     "text": [
      "User 47 has viewed the following movies:\n",
      "\n",
      "\t48 Hrs., Rating: 4.0\n",
      "\tBack to the Future Part II, Rating: 4.0\n",
      "\t20,000 Leagues Under the Sea, Rating: 5.0\n",
      "\tMuriel's Wedding, Rating: 4.0\n",
      "\tHigh Noon, Rating: 4.0\n",
      "\tTerminator 3: Rise of the Machines, Rating: 4.0\n",
      "\tFaster, Pussycat! Kill! Kill!, Rating: 4.0\n",
      "\tSilent Hill, Rating: 4.0\n",
      "\tThe Conversation, Rating: 3.0\n",
      "\tTo Kill a Mockingbird, Rating: 3.0\n",
      "\n",
      "The following movies are recommended for User 47\n",
      "\n",
      "\tSleepless in Seattle\n",
      "\tThe Million Dollar Hotel\n",
      "\tThe Good Thief\n",
      "\tLonely Hearts\n",
      "\tGalaxy Quest\n",
      "\tNell\n",
      "\tFlags of Our Fathers\n",
      "\tHard Target\n",
      "\tLicense to Wed\n",
      "\tPoint Break\n",
      "\tBirdman of Alcatraz\n",
      "\tMy Darling Clementine\n",
      "\tMission: Impossible II\n",
      "\tWhile You Were Sleeping\n",
      "\tFrankenstein\n",
      "\tThe Thomas Crown Affair\n",
      "\tMurder She Said\n",
      "\tEnd of the World\n",
      "\tBoat\n",
      "\tBeetlejuice\n",
      "\tBeverly Hills Cop III\n",
      "\tMy Name Is Bruce\n",
      "\tMen in Black II\n",
      "\tConfession of a Child of the Century\n",
      "\tStraw Dogs\n",
      "\tEdward Scissorhands\n",
      "\tThe Bachelor\n",
      "\tDr. Jekyll and Mr. Hyde\n",
      "\tSpace Jam\n",
      "\tThe 39 Steps\n",
      "\tCold Mountain\n",
      "\tBonnie and Clyde\n",
      "\tGremlins 2: The New Batch\n",
      "\tForces of Nature\n",
      "\tBullitt\n",
      "\tCool Hand Luke\n",
      "\tShriek If You Know What I Did Last Friday the Thirteenth\n",
      "\tWithin the Woods\n",
      "\tThe Thomas Crown Affair\n",
      "\tThe Rapture\n",
      "\tLoose Screws\n",
      "\tIrma la Douce\n",
      "\tMeet the Robinsons\n",
      "\tFar from the Madding Crowd\n",
      "\tThe Bank Dick\n",
      "\tLaura\n",
      "\tDear Frankie\n",
      "\tRumble Fish\n",
      "\tEscape from New York\n",
      "\tDancer in the Dark\n",
      "\tKen Park\n",
      "\tReality Bites\n",
      "\tLongitude\n",
      "\tThe Return of the King\n",
      "\tSuperstar: The Karen Carpenter Story\n",
      "\tTotally Blonde\n",
      "\tThe Butterfly Effect\n",
      "\tBroken Flowers\n",
      "\tLight of Day\n",
      "\tThe Howling: New Moon Rising\n",
      "\tBean\n",
      "\tEnough\n",
      "\tA Star Is Born\n",
      "\tThe Yes Men\n",
      "\tDog Day Afternoon\n",
      "\tDawn of the Dead\n",
      "\tStand by Me\n",
      "\tThe Big Sleep\n",
      "\tPostal\n",
      "\tLocal Color\n",
      "\tIn Time\n",
      "\tLassie Come Home\n",
      "\tBecause I Said So\n",
      "\tYoung and Innocent\n",
      "\tBill & Ted's Bogus Journey\n",
      "\tMetamorphosis\n",
      "\tBoogie Nights\n",
      "\tMatch Point\n",
      "\tGhost Rider\n",
      "\tThe Garden of Eden\n",
      "\tBackdraft\n",
      "\tUrban Explorer\n",
      "\tJacob's Ladder\n",
      "\tBridge to Terabithia\n",
      "\tVampire's Kiss\n",
      "\tThe Mist\n",
      "\tFools Rush In\n",
      "\tDances with Wolves\n",
      "\tSon of Frankenstein\n",
      "\tHorrible Bosses\n",
      "\tCarry On Doctor\n",
      "\tStranger Than Fiction\n",
      "\tLucky You\n",
      "\tFrankenstein Created Woman\n",
      "\tIce Age: The Meltdown\n",
      "\tCheerleaders' Wild Weekend\n",
      "\tAnd Then There Were None\n",
      "\tThe Lost Continent\n",
      "\tFlash Gordon\n",
      "\tHarry Potter and the Philosopher's Stone\n",
      "\tThe Shipping News\n",
      "\t24 Hour Party People\n",
      "\tSunshine\n",
      "\tPrime\n",
      "\tBrake\n",
      "\tWuthering Heights\n",
      "\tSay Anything...\n",
      "\tSweet November\n",
      "\tThe Night of the Hunter\n",
      "\tThe Skulls II\n",
      "\tSunset Boulevard\n",
      "\tThe Wanderers\n",
      "\tExodus\n",
      "\tNow and Forever\n",
      "\tBlue Velvet\n",
      "\tAmerican History X\n",
      "\tCloser\n",
      "\tLethal Weapon 3\n",
      "\tThe Thirteenth Floor\n",
      "\tThe First Wives Club\n",
      "\tThe Dawn Patrol\n",
      "\tA River Runs Through It\n",
      "\tStomp the Yard\n",
      "\teXistenZ\n",
      "\tThe Man Who Knew Too Much\n",
      "\tSwept from the Sea\n",
      "\tBeowulf\n",
      "\tMission to Mars\n",
      "\tTwilight\n",
      "\tDread\n",
      "\tFrankenstein Unbound\n",
      "\tIdle Hands\n",
      "\tThe Chronicles of Riddick: Dark Fury\n",
      "\tYou, Me and Dupree\n",
      "\tWattstax\n",
      "\tThe Out-of-Towners\n",
      "\tKevin Hart: Laugh at My Pain\n",
      "\tA Christmas Story\n",
      "\tOne Night at McCool's\n",
      "\tEdward, My Son\n",
      "\tRed Light\n",
      "\tWedlock\n",
      "\tNight of the Demons\n",
      "\tCinderella Man\n",
      "\tBridesmaids\n",
      "\tChanging Lanes\n",
      "\tBarton Fink\n",
      "\tBrigham Young\n",
      "\tComanche Station\n",
      "\tThe Lord of the Rings\n",
      "\tBillion Dollar Brain\n",
      "\tMr. Smith Goes to Washington\n",
      "\tFever Pitch\n",
      "\tNorth by Northwest\n",
      "\tThe Hours\n",
      "\tMessenger of Death\n",
      "\tThe Island\n",
      "\tThe Sorcerer's Apprentice\n",
      "\tSaw II\n",
      "\tHomeless to Harvard: The Liz Murray Story\n",
      "\tLetter from an Unknown Woman\n",
      "\tMarlowe\n",
      "\tHeart of the Country\n",
      "\tRock 'n' Roll High School\n",
      "\tThe Revengers' Comedies\n",
      "\tMan with the Screaming Brain\n",
      "\tSaw\n",
      "\tGrizzly Man\n",
      "\tConquest of the Planet of the Apes\n",
      "\tBringing Up Baby\n",
      "\tThe Final Cut\n",
      "\tThe Butter Battle Book\n",
      "\tBride of Frankenstein\n",
      "\tMurder, My Sweet\n",
      "\tQuinceañera\n",
      "\tCarry On Screaming\n",
      "\tK-19: The Widowmaker\n",
      "\tBlondie Knows Best\n",
      "\tJackie Brown\n",
      "\tDeath Line\n",
      "\tThe Halliday Brand\n",
      "\tWilbur Wants to Kill Himself\n",
      "\tThe Sentinel\n",
      "\tBlown Away\n",
      "\tArmy of Darkness\n",
      "\tThe Flying Saucer\n",
      "\tShakespeare in Love\n",
      "\tCity Lights\n",
      "\tA Dandy in Aspic\n",
      "\tImpostor\n",
      "\tLove in the Time of Cholera\n",
      "\tThe Poseidon Adventure\n",
      "\tAn American Tail\n",
      "\tJoshua\n",
      "\tStar 80\n",
      "\tLeon: The Professional\n",
      "\tThe Count of Monte-Cristo\n",
      "\t42nd Street\n",
      "\tThe Karate Kid\n",
      "\tTop of the Food Chain\n"
     ]
    }
   ],
   "source": [
    "print_user_prediction(47, top_n, movies_metadata_df1)"
   ]
  },
  {
   "cell_type": "code",
   "execution_count": 22,
   "metadata": {},
   "outputs": [],
   "source": [
    "UserFavoriteRating = namedtuple('UserFavoriteRating', ['title', 'rating'])\n",
    "def collab_filter_recommendations(user, top_ns, movie_meta_df):\n",
    "    \n",
    "    predictions = top_ns[user]\n",
    "    \n",
    "    return [UserFavoriteRating(get_movie_name(pred[0], movie_meta_df), pred[1]) for pred in predictions]"
   ]
  },
  {
   "cell_type": "code",
   "execution_count": 23,
   "metadata": {},
   "outputs": [
    {
     "data": {
      "text/plain": [
       "[UserFavoriteRating(title='Sleepless in Seattle', rating=4.868342810017726),\n",
       " UserFavoriteRating(title='The Million Dollar Hotel', rating=4.698752943845523),\n",
       " UserFavoriteRating(title='The Good Thief', rating=4.690038051145996),\n",
       " UserFavoriteRating(title='Lonely Hearts', rating=4.686957743582364),\n",
       " UserFavoriteRating(title='Galaxy Quest', rating=4.665849789470337),\n",
       " UserFavoriteRating(title='Nell', rating=4.654714414811269),\n",
       " UserFavoriteRating(title='Flags of Our Fathers', rating=4.628800442160122),\n",
       " UserFavoriteRating(title='Hard Target', rating=4.608794397057453),\n",
       " UserFavoriteRating(title='License to Wed', rating=4.607982223059793),\n",
       " UserFavoriteRating(title='Point Break', rating=4.5884399893310475),\n",
       " UserFavoriteRating(title='Birdman of Alcatraz', rating=4.531716309511345),\n",
       " UserFavoriteRating(title='My Darling Clementine', rating=4.526230373403165),\n",
       " UserFavoriteRating(title='Mission: Impossible II', rating=4.522152931720601),\n",
       " UserFavoriteRating(title='While You Were Sleeping', rating=4.518101890492852),\n",
       " UserFavoriteRating(title='Frankenstein', rating=4.5118197426667415),\n",
       " UserFavoriteRating(title='The Thomas Crown Affair', rating=4.511722486170642),\n",
       " UserFavoriteRating(title='Murder She Said', rating=4.481938700837866),\n",
       " UserFavoriteRating(title='End of the World', rating=4.475994629236743),\n",
       " UserFavoriteRating(title='Boat', rating=4.457659642267145),\n",
       " UserFavoriteRating(title='Beetlejuice', rating=4.45747485378506),\n",
       " UserFavoriteRating(title='Beverly Hills Cop III', rating=4.451422166056579),\n",
       " UserFavoriteRating(title='My Name Is Bruce', rating=4.447275096032427),\n",
       " UserFavoriteRating(title='Men in Black II', rating=4.441508785182572),\n",
       " UserFavoriteRating(title='Confession of a Child of the Century', rating=4.4321448860209385),\n",
       " UserFavoriteRating(title='Straw Dogs', rating=4.427729486411465),\n",
       " UserFavoriteRating(title='Edward Scissorhands', rating=4.427450094219433),\n",
       " UserFavoriteRating(title='The Bachelor', rating=4.422743604326386),\n",
       " UserFavoriteRating(title='Dr. Jekyll and Mr. Hyde', rating=4.415946338312576),\n",
       " UserFavoriteRating(title='Space Jam', rating=4.410392751070621),\n",
       " UserFavoriteRating(title='The 39 Steps', rating=4.406761923286828),\n",
       " UserFavoriteRating(title='Cold Mountain', rating=4.40248790771376),\n",
       " UserFavoriteRating(title='Bonnie and Clyde', rating=4.394764517862359),\n",
       " UserFavoriteRating(title='Gremlins 2: The New Batch', rating=4.390417731993474),\n",
       " UserFavoriteRating(title='Forces of Nature', rating=4.387748278036962),\n",
       " UserFavoriteRating(title='Bullitt', rating=4.387039526118498),\n",
       " UserFavoriteRating(title='Cool Hand Luke', rating=4.384325159456841),\n",
       " UserFavoriteRating(title='Shriek If You Know What I Did Last Friday the Thirteenth', rating=4.381854261318805),\n",
       " UserFavoriteRating(title='Within the Woods', rating=4.378125759287199),\n",
       " UserFavoriteRating(title='The Thomas Crown Affair', rating=4.372614230186309),\n",
       " UserFavoriteRating(title='The Rapture', rating=4.372493034244505),\n",
       " UserFavoriteRating(title='Loose Screws', rating=4.369584560760661),\n",
       " UserFavoriteRating(title='Irma la Douce', rating=4.358993781480639),\n",
       " UserFavoriteRating(title='Meet the Robinsons', rating=4.357371838583773),\n",
       " UserFavoriteRating(title='Far from the Madding Crowd', rating=4.355053450059349),\n",
       " UserFavoriteRating(title='The Bank Dick', rating=4.3437331971130035),\n",
       " UserFavoriteRating(title='Laura', rating=4.338416827322837),\n",
       " UserFavoriteRating(title='Dear Frankie', rating=4.337708227519172),\n",
       " UserFavoriteRating(title='Rumble Fish', rating=4.331083264232132),\n",
       " UserFavoriteRating(title='Escape from New York', rating=4.330497182907531),\n",
       " UserFavoriteRating(title='Dancer in the Dark', rating=4.322459434972362),\n",
       " UserFavoriteRating(title='Ken Park', rating=4.32203084688539),\n",
       " UserFavoriteRating(title='Reality Bites', rating=4.321076094430932),\n",
       " UserFavoriteRating(title='Longitude', rating=4.318321186538684),\n",
       " UserFavoriteRating(title='The Return of the King', rating=4.315035515285154),\n",
       " UserFavoriteRating(title='Superstar: The Karen Carpenter Story', rating=4.310639928976079),\n",
       " UserFavoriteRating(title='Totally Blonde', rating=4.3091463251007855),\n",
       " UserFavoriteRating(title='The Butterfly Effect', rating=4.3083695645712785),\n",
       " UserFavoriteRating(title='Broken Flowers', rating=4.30818705702594),\n",
       " UserFavoriteRating(title='Light of Day', rating=4.305946634904258),\n",
       " UserFavoriteRating(title='The Howling: New Moon Rising', rating=4.303909067234247),\n",
       " UserFavoriteRating(title='Bean', rating=4.301675561762294),\n",
       " UserFavoriteRating(title='Enough', rating=4.299681092308421),\n",
       " UserFavoriteRating(title='A Star Is Born', rating=4.288810911435048),\n",
       " UserFavoriteRating(title='The Yes Men', rating=4.288106338998441),\n",
       " UserFavoriteRating(title='Dog Day Afternoon', rating=4.286737415364662),\n",
       " UserFavoriteRating(title='Dawn of the Dead', rating=4.284364118842077),\n",
       " UserFavoriteRating(title='Stand by Me', rating=4.283594519540177),\n",
       " UserFavoriteRating(title='The Big Sleep', rating=4.27759620104506),\n",
       " UserFavoriteRating(title='Postal', rating=4.277194172666124),\n",
       " UserFavoriteRating(title='Local Color', rating=4.27303913348127),\n",
       " UserFavoriteRating(title='In Time', rating=4.272795842797723),\n",
       " UserFavoriteRating(title='Lassie Come Home', rating=4.271950368923616),\n",
       " UserFavoriteRating(title='Because I Said So', rating=4.2698493882392325),\n",
       " UserFavoriteRating(title='Young and Innocent', rating=4.269201470953215),\n",
       " UserFavoriteRating(title=\"Bill & Ted's Bogus Journey\", rating=4.264585977929994),\n",
       " UserFavoriteRating(title='Metamorphosis', rating=4.263175012765717),\n",
       " UserFavoriteRating(title='Boogie Nights', rating=4.2606177346854635),\n",
       " UserFavoriteRating(title='Match Point', rating=4.258915383504569),\n",
       " UserFavoriteRating(title='Ghost Rider', rating=4.258792732089573),\n",
       " UserFavoriteRating(title='The Garden of Eden', rating=4.25791893303478),\n",
       " UserFavoriteRating(title='Backdraft', rating=4.2574726611281015),\n",
       " UserFavoriteRating(title='Urban Explorer', rating=4.253648853959618),\n",
       " UserFavoriteRating(title=\"Jacob's Ladder\", rating=4.2510829252278475),\n",
       " UserFavoriteRating(title='Bridge to Terabithia', rating=4.248485278069775),\n",
       " UserFavoriteRating(title=\"Vampire's Kiss\", rating=4.248369517894602),\n",
       " UserFavoriteRating(title='The Mist', rating=4.244548636381858),\n",
       " UserFavoriteRating(title='Fools Rush In', rating=4.239606495499901),\n",
       " UserFavoriteRating(title='Dances with Wolves', rating=4.238873508219161),\n",
       " UserFavoriteRating(title='Son of Frankenstein', rating=4.237640538834665),\n",
       " UserFavoriteRating(title='Horrible Bosses', rating=4.237155309195578),\n",
       " UserFavoriteRating(title='Carry On Doctor', rating=4.235992026143889),\n",
       " UserFavoriteRating(title='Stranger Than Fiction', rating=4.235745611943674),\n",
       " UserFavoriteRating(title='Lucky You', rating=4.228159973224296),\n",
       " UserFavoriteRating(title='Frankenstein Created Woman', rating=4.22651342220438),\n",
       " UserFavoriteRating(title='Ice Age: The Meltdown', rating=4.226114031244553),\n",
       " UserFavoriteRating(title=\"Cheerleaders' Wild Weekend\", rating=4.224384288924036),\n",
       " UserFavoriteRating(title='And Then There Were None', rating=4.2225539563867756),\n",
       " UserFavoriteRating(title='The Lost Continent', rating=4.21717242774657),\n",
       " UserFavoriteRating(title='Flash Gordon', rating=4.217025087938241),\n",
       " UserFavoriteRating(title=\"Harry Potter and the Philosopher's Stone\", rating=4.216591340962887),\n",
       " UserFavoriteRating(title='The Shipping News', rating=4.216337949685373),\n",
       " UserFavoriteRating(title='24 Hour Party People', rating=4.215326638796448),\n",
       " UserFavoriteRating(title='Sunshine', rating=4.212227545448106),\n",
       " UserFavoriteRating(title='Prime', rating=4.209594616134599),\n",
       " UserFavoriteRating(title='Brake', rating=4.197261296660256),\n",
       " UserFavoriteRating(title='Wuthering Heights', rating=4.195924675369167),\n",
       " UserFavoriteRating(title='Say Anything...', rating=4.195844519989396),\n",
       " UserFavoriteRating(title='Sweet November', rating=4.195016457854971),\n",
       " UserFavoriteRating(title='The Night of the Hunter', rating=4.193095283017763),\n",
       " UserFavoriteRating(title='The Skulls II', rating=4.1916917601265045),\n",
       " UserFavoriteRating(title='Sunset Boulevard', rating=4.188058166354216),\n",
       " UserFavoriteRating(title='The Wanderers', rating=4.186020065998274),\n",
       " UserFavoriteRating(title='Exodus', rating=4.185924509783909),\n",
       " UserFavoriteRating(title='Now and Forever', rating=4.184936569747181),\n",
       " UserFavoriteRating(title='Blue Velvet', rating=4.173726544884011),\n",
       " UserFavoriteRating(title='American History X', rating=4.172963322209968),\n",
       " UserFavoriteRating(title='Closer', rating=4.171746838209252),\n",
       " UserFavoriteRating(title='Lethal Weapon 3', rating=4.171625133276424),\n",
       " UserFavoriteRating(title='The Thirteenth Floor', rating=4.170754896755838),\n",
       " UserFavoriteRating(title='The First Wives Club', rating=4.16502994989536),\n",
       " UserFavoriteRating(title='The Dawn Patrol', rating=4.16440875621733),\n",
       " UserFavoriteRating(title='A River Runs Through It', rating=4.163456409999378),\n",
       " UserFavoriteRating(title='Stomp the Yard', rating=4.159443899379109),\n",
       " UserFavoriteRating(title='eXistenZ', rating=4.159007228922506),\n",
       " UserFavoriteRating(title='The Man Who Knew Too Much', rating=4.158886749768752),\n",
       " UserFavoriteRating(title='Swept from the Sea', rating=4.156519086440527),\n",
       " UserFavoriteRating(title='Beowulf', rating=4.155534457740918),\n",
       " UserFavoriteRating(title='Mission to Mars', rating=4.155119188859168),\n",
       " UserFavoriteRating(title='Twilight', rating=4.151436566611704),\n",
       " UserFavoriteRating(title='Dread', rating=4.149207285289237),\n",
       " UserFavoriteRating(title='Frankenstein Unbound', rating=4.147945478142658),\n",
       " UserFavoriteRating(title='Idle Hands', rating=4.144342752460525),\n",
       " UserFavoriteRating(title='The Chronicles of Riddick: Dark Fury', rating=4.144314740372513),\n",
       " UserFavoriteRating(title='You, Me and Dupree', rating=4.142860904576949),\n",
       " UserFavoriteRating(title='Wattstax', rating=4.141052740163428),\n",
       " UserFavoriteRating(title='The Out-of-Towners', rating=4.140246525494978),\n",
       " UserFavoriteRating(title='Kevin Hart: Laugh at My Pain', rating=4.13569589162727),\n",
       " UserFavoriteRating(title='A Christmas Story', rating=4.135155295260259),\n",
       " UserFavoriteRating(title=\"One Night at McCool's\", rating=4.135012793038751),\n",
       " UserFavoriteRating(title='Edward, My Son', rating=4.1347916821580695),\n",
       " UserFavoriteRating(title='Red Light', rating=4.134777499251566),\n",
       " UserFavoriteRating(title='Wedlock', rating=4.133678704371273),\n",
       " UserFavoriteRating(title='Night of the Demons', rating=4.132937277476428),\n",
       " UserFavoriteRating(title='Cinderella Man', rating=4.132461328986799),\n",
       " UserFavoriteRating(title='Bridesmaids', rating=4.1321182390720885),\n",
       " UserFavoriteRating(title='Changing Lanes', rating=4.1320855611456055),\n",
       " UserFavoriteRating(title='Barton Fink', rating=4.128725531296004),\n",
       " UserFavoriteRating(title='Brigham Young', rating=4.1270383970820115),\n",
       " UserFavoriteRating(title='Comanche Station', rating=4.1238960804420435),\n",
       " UserFavoriteRating(title='The Lord of the Rings', rating=4.121371655828587),\n",
       " UserFavoriteRating(title='Billion Dollar Brain', rating=4.118712269650779),\n",
       " UserFavoriteRating(title='Mr. Smith Goes to Washington', rating=4.118275770214259),\n",
       " UserFavoriteRating(title='Fever Pitch', rating=4.117791390818393),\n",
       " UserFavoriteRating(title='North by Northwest', rating=4.116676426378856),\n",
       " UserFavoriteRating(title='The Hours', rating=4.115173105742556),\n",
       " UserFavoriteRating(title='Messenger of Death', rating=4.114496184888333),\n",
       " UserFavoriteRating(title='The Island', rating=4.112752007844722),\n",
       " UserFavoriteRating(title=\"The Sorcerer's Apprentice\", rating=4.112601668833262),\n",
       " UserFavoriteRating(title='Saw II', rating=4.110585941378605),\n",
       " UserFavoriteRating(title='Homeless to Harvard: The Liz Murray Story', rating=4.1105508465414795),\n",
       " UserFavoriteRating(title='Letter from an Unknown Woman', rating=4.109685726021936),\n",
       " UserFavoriteRating(title='Marlowe', rating=4.108596759977137),\n",
       " UserFavoriteRating(title='Heart of the Country', rating=4.107599766518365),\n",
       " UserFavoriteRating(title=\"Rock 'n' Roll High School\", rating=4.106507020849059),\n",
       " UserFavoriteRating(title=\"The Revengers' Comedies\", rating=4.100514736916204),\n",
       " UserFavoriteRating(title='Man with the Screaming Brain', rating=4.099424370988021),\n",
       " UserFavoriteRating(title='Saw', rating=4.0979181417955886),\n",
       " UserFavoriteRating(title='Grizzly Man', rating=4.097083913566958),\n",
       " UserFavoriteRating(title='Conquest of the Planet of the Apes', rating=4.095812336361006),\n",
       " UserFavoriteRating(title='Bringing Up Baby', rating=4.095170792581624),\n",
       " UserFavoriteRating(title='The Final Cut', rating=4.091183637789467),\n",
       " UserFavoriteRating(title='The Butter Battle Book', rating=4.091011369846416),\n",
       " UserFavoriteRating(title='Bride of Frankenstein', rating=4.0900089721977935),\n",
       " UserFavoriteRating(title='Murder, My Sweet', rating=4.089884665169654),\n",
       " UserFavoriteRating(title='Quinceañera', rating=4.085307570164617),\n",
       " UserFavoriteRating(title='Carry On Screaming', rating=4.083341002959819),\n",
       " UserFavoriteRating(title='K-19: The Widowmaker', rating=4.082872379256729),\n",
       " UserFavoriteRating(title='Blondie Knows Best', rating=4.08209455294776),\n",
       " UserFavoriteRating(title='Jackie Brown', rating=4.079943858917837),\n",
       " UserFavoriteRating(title='Death Line', rating=4.0769963000120875),\n",
       " UserFavoriteRating(title='The Halliday Brand', rating=4.074621737873133),\n",
       " UserFavoriteRating(title='Wilbur Wants to Kill Himself', rating=4.074486218453198),\n",
       " UserFavoriteRating(title='The Sentinel', rating=4.072842510808652),\n",
       " UserFavoriteRating(title='Blown Away', rating=4.071549653920171),\n",
       " UserFavoriteRating(title='Army of Darkness', rating=4.07074093402198),\n",
       " UserFavoriteRating(title='The Flying Saucer', rating=4.0664805342948345),\n",
       " UserFavoriteRating(title='Shakespeare in Love', rating=4.060511237588299),\n",
       " UserFavoriteRating(title='City Lights', rating=4.059941361106538),\n",
       " UserFavoriteRating(title='A Dandy in Aspic', rating=4.059817517760392),\n",
       " UserFavoriteRating(title='Impostor', rating=4.059180315944373),\n",
       " UserFavoriteRating(title='Love in the Time of Cholera', rating=4.059080846477164),\n",
       " UserFavoriteRating(title='The Poseidon Adventure', rating=4.058826037616032),\n",
       " UserFavoriteRating(title='An American Tail', rating=4.058153233579881),\n",
       " UserFavoriteRating(title='Joshua', rating=4.056627038739953),\n",
       " UserFavoriteRating(title='Star 80', rating=4.055705501389088),\n",
       " UserFavoriteRating(title='Leon: The Professional', rating=4.054705631506153),\n",
       " UserFavoriteRating(title='The Count of Monte-Cristo', rating=4.053489638553634),\n",
       " UserFavoriteRating(title='42nd Street', rating=4.0529830662419),\n",
       " UserFavoriteRating(title='The Karate Kid', rating=4.050046122018523),\n",
       " UserFavoriteRating(title='Top of the Food Chain', rating=4.049015729160348)]"
      ]
     },
     "execution_count": 23,
     "metadata": {},
     "output_type": "execute_result"
    }
   ],
   "source": [
    "collab_filter_recommendations(47, top_n, movies_metadata_df1)"
   ]
  },
  {
   "cell_type": "code",
   "execution_count": null,
   "metadata": {},
   "outputs": [],
   "source": []
  },
  {
   "cell_type": "markdown",
   "metadata": {},
   "source": [
    "# CONTENT FILTERING"
   ]
  },
  {
   "cell_type": "code",
   "execution_count": 24,
   "metadata": {},
   "outputs": [],
   "source": [
    "movies_metadata_df = pd.read_csv('the-movies-dataset/movies_metadata.csv'\n",
    "                                 , converters={ 'id': lambda x: convert_ids(x)\n",
    "                                               , 'imdb_id': lambda x: convert_ids(x)\n",
    "                                               ,'popularity': lambda x: convert_to_float(x)\n",
    "                                               ,'genres': lambda x: to_json(x)}\n",
    "                                 , usecols=['id', 'original_title'\n",
    "                                                , 'genres' #'homepage'\n",
    "                                                , 'overview', 'popularity', 'poster_path'\n",
    "                                                , 'release_date', 'revenue', 'runtime'\n",
    "                                                , 'spoken_languages', 'title'\n",
    "                                                , 'vote_average', 'vote_count']\n",
    "                                , dtype={'populariy': np.float64}\n",
    "                                , parse_dates=True)\n",
    "movies_metadata_df = movies_metadata_df.drop_duplicates(subset=['id'])"
   ]
  },
  {
   "cell_type": "code",
   "execution_count": 25,
   "metadata": {},
   "outputs": [],
   "source": [
    "def get_recommendations(title, tfidf_matrix):\n",
    "    # Get the index of the movie that matches the title\n",
    "    idx = movies_df[title]\n",
    "    cosine_sim = linear_kernel(tfidf_matrix[idx], tfidf_matrix)\n",
    "    # Get the pairwsie similarity scores of all movies with that movie\n",
    "    sim_scores = list(enumerate(cosine_sim[0]))\n",
    "    \n",
    "    pickle.dump(tfidf_matrix ,open(\"feature.pkl\",\"wb\"))\n",
    "\n",
    "    # Sort the movies based on the similarity scores\n",
    "    sim_scores = sorted(sim_scores, key=lambda x: x[1], reverse=True)\n",
    "\n",
    "    # Get the scores of the 10 most similar movies\n",
    "    sim_scores = sim_scores[0:21]\n",
    "\n",
    "    # Get the movie indices\n",
    "    movie_indices = [i[0] for i in sim_scores]\n",
    "\n",
    "    # Return the top 10 most similar movies\n",
    "    #print(idx, title , movies_metadata_df['title'].iloc[idx],movies_metadata_df['genres'].iloc[idx])\n",
    "    return movies_metadata_df['title'].iloc[movie_indices]"
   ]
  },
  {
   "cell_type": "code",
   "execution_count": 26,
   "metadata": {},
   "outputs": [
    {
     "data": {
      "text/plain": [
       "(45434, 13)"
      ]
     },
     "execution_count": 26,
     "metadata": {},
     "output_type": "execute_result"
    }
   ],
   "source": [
    "movies_metadata_df.shape"
   ]
  },
  {
   "cell_type": "code",
   "execution_count": 27,
   "metadata": {},
   "outputs": [],
   "source": [
    "# Load keywords and credits\n",
    "credits = pd.read_csv('the-movies-dataset/credits.csv')\n",
    "keywords = pd.read_csv('the-movies-dataset/keywords.csv')\n",
    "\n",
    "credits = credits.drop_duplicates(subset=['id'])\n",
    "keywords = keywords.drop_duplicates(subset=['id'])\n",
    "\n",
    "# Convert IDs to int. Required for merging\n",
    "keywords['id'] = keywords['id'].astype('int')\n",
    "credits['id'] = credits['id'].astype('int')\n",
    "movies_metadata_df['id'] = movies_metadata_df['id'].astype('int')\n",
    "\n",
    "# Merge keywords and credits into your main metadata dataframe\n",
    "movies_metadata_df = credits.merge(movies_metadata_df, on='id')\n",
    "movies_metadata_df = movies_metadata_df.merge(keywords, on='id')\n"
   ]
  },
  {
   "cell_type": "code",
   "execution_count": 28,
   "metadata": {},
   "outputs": [],
   "source": [
    "movies_df = pd.Series(movies_metadata_df.index, index=movies_metadata_df['title']).drop_duplicates()"
   ]
  },
  {
   "cell_type": "code",
   "execution_count": 29,
   "metadata": {},
   "outputs": [
    {
     "ename": "ValueError",
     "evalue": "malformed node or string: [{'id': 16, 'name': 'Animation'}, {'id': 35, 'name': 'Comedy'}, {'id': 10751, 'name': 'Family'}]",
     "output_type": "error",
     "traceback": [
      "\u001b[0;31m---------------------------------------------------------------------------\u001b[0m",
      "\u001b[0;31mValueError\u001b[0m                                Traceback (most recent call last)",
      "\u001b[0;32m<ipython-input-29-fdd9d330ff45>\u001b[0m in \u001b[0;36m<module>\u001b[0;34m\u001b[0m\n\u001b[1;32m      1\u001b[0m \u001b[0mfeatures\u001b[0m \u001b[0;34m=\u001b[0m \u001b[0;34m[\u001b[0m\u001b[0;34m'cast'\u001b[0m\u001b[0;34m,\u001b[0m \u001b[0;34m'crew'\u001b[0m\u001b[0;34m,\u001b[0m \u001b[0;34m'keywords'\u001b[0m\u001b[0;34m,\u001b[0m \u001b[0;34m'genres'\u001b[0m\u001b[0;34m]\u001b[0m\u001b[0;34m\u001b[0m\u001b[0;34m\u001b[0m\u001b[0m\n\u001b[1;32m      2\u001b[0m \u001b[0;32mfor\u001b[0m \u001b[0mfeature\u001b[0m \u001b[0;32min\u001b[0m \u001b[0mfeatures\u001b[0m\u001b[0;34m:\u001b[0m\u001b[0;34m\u001b[0m\u001b[0;34m\u001b[0m\u001b[0m\n\u001b[0;32m----> 3\u001b[0;31m     \u001b[0mmovies_metadata_df\u001b[0m\u001b[0;34m[\u001b[0m\u001b[0mfeature\u001b[0m\u001b[0;34m]\u001b[0m \u001b[0;34m=\u001b[0m \u001b[0mmovies_metadata_df\u001b[0m\u001b[0;34m[\u001b[0m\u001b[0mfeature\u001b[0m\u001b[0;34m]\u001b[0m\u001b[0;34m.\u001b[0m\u001b[0mapply\u001b[0m\u001b[0;34m(\u001b[0m\u001b[0mliteral_eval\u001b[0m\u001b[0;34m)\u001b[0m\u001b[0;34m\u001b[0m\u001b[0;34m\u001b[0m\u001b[0m\n\u001b[0m",
      "\u001b[0;32m/usr/local/lib/python3.7/site-packages/pandas/core/series.py\u001b[0m in \u001b[0;36mapply\u001b[0;34m(self, func, convert_dtype, args, **kwds)\u001b[0m\n\u001b[1;32m   3192\u001b[0m             \u001b[0;32melse\u001b[0m\u001b[0;34m:\u001b[0m\u001b[0;34m\u001b[0m\u001b[0;34m\u001b[0m\u001b[0m\n\u001b[1;32m   3193\u001b[0m                 \u001b[0mvalues\u001b[0m \u001b[0;34m=\u001b[0m \u001b[0mself\u001b[0m\u001b[0;34m.\u001b[0m\u001b[0mastype\u001b[0m\u001b[0;34m(\u001b[0m\u001b[0mobject\u001b[0m\u001b[0;34m)\u001b[0m\u001b[0;34m.\u001b[0m\u001b[0mvalues\u001b[0m\u001b[0;34m\u001b[0m\u001b[0;34m\u001b[0m\u001b[0m\n\u001b[0;32m-> 3194\u001b[0;31m                 \u001b[0mmapped\u001b[0m \u001b[0;34m=\u001b[0m \u001b[0mlib\u001b[0m\u001b[0;34m.\u001b[0m\u001b[0mmap_infer\u001b[0m\u001b[0;34m(\u001b[0m\u001b[0mvalues\u001b[0m\u001b[0;34m,\u001b[0m \u001b[0mf\u001b[0m\u001b[0;34m,\u001b[0m \u001b[0mconvert\u001b[0m\u001b[0;34m=\u001b[0m\u001b[0mconvert_dtype\u001b[0m\u001b[0;34m)\u001b[0m\u001b[0;34m\u001b[0m\u001b[0;34m\u001b[0m\u001b[0m\n\u001b[0m\u001b[1;32m   3195\u001b[0m \u001b[0;34m\u001b[0m\u001b[0m\n\u001b[1;32m   3196\u001b[0m         \u001b[0;32mif\u001b[0m \u001b[0mlen\u001b[0m\u001b[0;34m(\u001b[0m\u001b[0mmapped\u001b[0m\u001b[0;34m)\u001b[0m \u001b[0;32mand\u001b[0m \u001b[0misinstance\u001b[0m\u001b[0;34m(\u001b[0m\u001b[0mmapped\u001b[0m\u001b[0;34m[\u001b[0m\u001b[0;36m0\u001b[0m\u001b[0;34m]\u001b[0m\u001b[0;34m,\u001b[0m \u001b[0mSeries\u001b[0m\u001b[0;34m)\u001b[0m\u001b[0;34m:\u001b[0m\u001b[0;34m\u001b[0m\u001b[0;34m\u001b[0m\u001b[0m\n",
      "\u001b[0;32mpandas/_libs/src/inference.pyx\u001b[0m in \u001b[0;36mpandas._libs.lib.map_infer\u001b[0;34m()\u001b[0m\n",
      "\u001b[0;32m/usr/local/Cellar/python/3.7.4_1/Frameworks/Python.framework/Versions/3.7/lib/python3.7/ast.py\u001b[0m in \u001b[0;36mliteral_eval\u001b[0;34m(node_or_string)\u001b[0m\n\u001b[1;32m     89\u001b[0m                     \u001b[0;32mreturn\u001b[0m \u001b[0mleft\u001b[0m \u001b[0;34m-\u001b[0m \u001b[0mright\u001b[0m\u001b[0;34m\u001b[0m\u001b[0;34m\u001b[0m\u001b[0m\n\u001b[1;32m     90\u001b[0m         \u001b[0;32mreturn\u001b[0m \u001b[0m_convert_signed_num\u001b[0m\u001b[0;34m(\u001b[0m\u001b[0mnode\u001b[0m\u001b[0;34m)\u001b[0m\u001b[0;34m\u001b[0m\u001b[0;34m\u001b[0m\u001b[0m\n\u001b[0;32m---> 91\u001b[0;31m     \u001b[0;32mreturn\u001b[0m \u001b[0m_convert\u001b[0m\u001b[0;34m(\u001b[0m\u001b[0mnode_or_string\u001b[0m\u001b[0;34m)\u001b[0m\u001b[0;34m\u001b[0m\u001b[0;34m\u001b[0m\u001b[0m\n\u001b[0m\u001b[1;32m     92\u001b[0m \u001b[0;34m\u001b[0m\u001b[0m\n\u001b[1;32m     93\u001b[0m \u001b[0;34m\u001b[0m\u001b[0m\n",
      "\u001b[0;32m/usr/local/Cellar/python/3.7.4_1/Frameworks/Python.framework/Versions/3.7/lib/python3.7/ast.py\u001b[0m in \u001b[0;36m_convert\u001b[0;34m(node)\u001b[0m\n\u001b[1;32m     88\u001b[0m                 \u001b[0;32melse\u001b[0m\u001b[0;34m:\u001b[0m\u001b[0;34m\u001b[0m\u001b[0;34m\u001b[0m\u001b[0m\n\u001b[1;32m     89\u001b[0m                     \u001b[0;32mreturn\u001b[0m \u001b[0mleft\u001b[0m \u001b[0;34m-\u001b[0m \u001b[0mright\u001b[0m\u001b[0;34m\u001b[0m\u001b[0;34m\u001b[0m\u001b[0m\n\u001b[0;32m---> 90\u001b[0;31m         \u001b[0;32mreturn\u001b[0m \u001b[0m_convert_signed_num\u001b[0m\u001b[0;34m(\u001b[0m\u001b[0mnode\u001b[0m\u001b[0;34m)\u001b[0m\u001b[0;34m\u001b[0m\u001b[0;34m\u001b[0m\u001b[0m\n\u001b[0m\u001b[1;32m     91\u001b[0m     \u001b[0;32mreturn\u001b[0m \u001b[0m_convert\u001b[0m\u001b[0;34m(\u001b[0m\u001b[0mnode_or_string\u001b[0m\u001b[0;34m)\u001b[0m\u001b[0;34m\u001b[0m\u001b[0;34m\u001b[0m\u001b[0m\n\u001b[1;32m     92\u001b[0m \u001b[0;34m\u001b[0m\u001b[0m\n",
      "\u001b[0;32m/usr/local/Cellar/python/3.7.4_1/Frameworks/Python.framework/Versions/3.7/lib/python3.7/ast.py\u001b[0m in \u001b[0;36m_convert_signed_num\u001b[0;34m(node)\u001b[0m\n\u001b[1;32m     61\u001b[0m             \u001b[0;32melse\u001b[0m\u001b[0;34m:\u001b[0m\u001b[0;34m\u001b[0m\u001b[0;34m\u001b[0m\u001b[0m\n\u001b[1;32m     62\u001b[0m                 \u001b[0;32mreturn\u001b[0m \u001b[0;34m-\u001b[0m \u001b[0moperand\u001b[0m\u001b[0;34m\u001b[0m\u001b[0;34m\u001b[0m\u001b[0m\n\u001b[0;32m---> 63\u001b[0;31m         \u001b[0;32mreturn\u001b[0m \u001b[0m_convert_num\u001b[0m\u001b[0;34m(\u001b[0m\u001b[0mnode\u001b[0m\u001b[0;34m)\u001b[0m\u001b[0;34m\u001b[0m\u001b[0;34m\u001b[0m\u001b[0m\n\u001b[0m\u001b[1;32m     64\u001b[0m     \u001b[0;32mdef\u001b[0m \u001b[0m_convert\u001b[0m\u001b[0;34m(\u001b[0m\u001b[0mnode\u001b[0m\u001b[0;34m)\u001b[0m\u001b[0;34m:\u001b[0m\u001b[0;34m\u001b[0m\u001b[0;34m\u001b[0m\u001b[0m\n\u001b[1;32m     65\u001b[0m         \u001b[0;32mif\u001b[0m \u001b[0misinstance\u001b[0m\u001b[0;34m(\u001b[0m\u001b[0mnode\u001b[0m\u001b[0;34m,\u001b[0m \u001b[0mConstant\u001b[0m\u001b[0;34m)\u001b[0m\u001b[0;34m:\u001b[0m\u001b[0;34m\u001b[0m\u001b[0;34m\u001b[0m\u001b[0m\n",
      "\u001b[0;32m/usr/local/Cellar/python/3.7.4_1/Frameworks/Python.framework/Versions/3.7/lib/python3.7/ast.py\u001b[0m in \u001b[0;36m_convert_num\u001b[0;34m(node)\u001b[0m\n\u001b[1;32m     53\u001b[0m         \u001b[0;32melif\u001b[0m \u001b[0misinstance\u001b[0m\u001b[0;34m(\u001b[0m\u001b[0mnode\u001b[0m\u001b[0;34m,\u001b[0m \u001b[0mNum\u001b[0m\u001b[0;34m)\u001b[0m\u001b[0;34m:\u001b[0m\u001b[0;34m\u001b[0m\u001b[0;34m\u001b[0m\u001b[0m\n\u001b[1;32m     54\u001b[0m             \u001b[0;32mreturn\u001b[0m \u001b[0mnode\u001b[0m\u001b[0;34m.\u001b[0m\u001b[0mn\u001b[0m\u001b[0;34m\u001b[0m\u001b[0;34m\u001b[0m\u001b[0m\n\u001b[0;32m---> 55\u001b[0;31m         \u001b[0;32mraise\u001b[0m \u001b[0mValueError\u001b[0m\u001b[0;34m(\u001b[0m\u001b[0;34m'malformed node or string: '\u001b[0m \u001b[0;34m+\u001b[0m \u001b[0mrepr\u001b[0m\u001b[0;34m(\u001b[0m\u001b[0mnode\u001b[0m\u001b[0;34m)\u001b[0m\u001b[0;34m)\u001b[0m\u001b[0;34m\u001b[0m\u001b[0;34m\u001b[0m\u001b[0m\n\u001b[0m\u001b[1;32m     56\u001b[0m     \u001b[0;32mdef\u001b[0m \u001b[0m_convert_signed_num\u001b[0m\u001b[0;34m(\u001b[0m\u001b[0mnode\u001b[0m\u001b[0;34m)\u001b[0m\u001b[0;34m:\u001b[0m\u001b[0;34m\u001b[0m\u001b[0;34m\u001b[0m\u001b[0m\n\u001b[1;32m     57\u001b[0m         \u001b[0;32mif\u001b[0m \u001b[0misinstance\u001b[0m\u001b[0;34m(\u001b[0m\u001b[0mnode\u001b[0m\u001b[0;34m,\u001b[0m \u001b[0mUnaryOp\u001b[0m\u001b[0;34m)\u001b[0m \u001b[0;32mand\u001b[0m \u001b[0misinstance\u001b[0m\u001b[0;34m(\u001b[0m\u001b[0mnode\u001b[0m\u001b[0;34m.\u001b[0m\u001b[0mop\u001b[0m\u001b[0;34m,\u001b[0m \u001b[0;34m(\u001b[0m\u001b[0mUAdd\u001b[0m\u001b[0;34m,\u001b[0m \u001b[0mUSub\u001b[0m\u001b[0;34m)\u001b[0m\u001b[0;34m)\u001b[0m\u001b[0;34m:\u001b[0m\u001b[0;34m\u001b[0m\u001b[0;34m\u001b[0m\u001b[0m\n",
      "\u001b[0;31mValueError\u001b[0m: malformed node or string: [{'id': 16, 'name': 'Animation'}, {'id': 35, 'name': 'Comedy'}, {'id': 10751, 'name': 'Family'}]"
     ]
    }
   ],
   "source": [
    "features = ['cast', 'crew', 'keywords', 'genres']\n",
    "for feature in features:\n",
    "    movies_metadata_df[feature] = movies_metadata_df[feature].apply(literal_eval)"
   ]
  },
  {
   "cell_type": "code",
   "execution_count": 30,
   "metadata": {},
   "outputs": [],
   "source": [
    "def get_director(x):\n",
    "    for i in x:\n",
    "        if i['job'] == 'Director':\n",
    "            return i['name']\n",
    "    return np.nan\n",
    "\n",
    "# Returns the list top 3 elements or entire list; whichever is more.\n",
    "def get_list(x):\n",
    "    if isinstance(x, list):\n",
    "        names = [i['name'] for i in x]\n",
    "        #Check if more than 3 elements exist. If yes, return only first three. If no, return entire list.\n",
    "        if len(names) > 3:\n",
    "            names = names[:3]\n",
    "        return names\n",
    "\n",
    "    #Return empty list in case of missing/malformed data\n",
    "    return []\n",
    "\n",
    "def clean_data(x):\n",
    "    if isinstance(x, list):\n",
    "        return [str.lower(i.replace(\" \", \"\")) for i in x]\n",
    "    else:\n",
    "        #Check if director exists. If not, return empty string\n",
    "        if isinstance(x, str):\n",
    "            return str.lower(x.replace(\" \", \"\"))\n",
    "        else:\n",
    "            return ''\n",
    "        \n",
    "def create_soup(x):\n",
    "    return ' '.join(x['keywords']) + ' ' + ' '.join(x['cast']) + ' ' + x['director'] + ' ' + ' '.join(x['genres'])"
   ]
  },
  {
   "cell_type": "code",
   "execution_count": 31,
   "metadata": {},
   "outputs": [],
   "source": [
    "# Define new director, cast, genres and keywords features that are in a suitable form.\n",
    "movies_metadata_df['director'] = movies_metadata_df['crew'].apply(get_director)\n",
    "\n",
    "features = ['cast', 'keywords', 'genres']\n",
    "for feature in features:\n",
    "    movies_metadata_df[feature] = movies_metadata_df[feature].apply(get_list)"
   ]
  },
  {
   "cell_type": "code",
   "execution_count": 32,
   "metadata": {},
   "outputs": [
    {
     "data": {
      "text/plain": [
       "array([[10.,  1.,  1., ...,  0.,  0.,  0.]])"
      ]
     },
     "execution_count": 32,
     "metadata": {},
     "output_type": "execute_result"
    }
   ],
   "source": [
    "# Apply clean_data function to your features.\n",
    "features = ['cast', 'keywords', 'director', 'genres']\n",
    "\n",
    "for feature in features:\n",
    "    movies_metadata_df[feature] = movies_metadata_df[feature].apply(clean_data)\n",
    "\n",
    "# Create a new soup feature\n",
    "movies_metadata_df['soup'] = movies_metadata_df.apply(create_soup, axis=1)\n",
    "\n",
    "count = CountVectorizer(stop_words='english')\n",
    "count_matrix = count.fit_transform(movies_metadata_df['soup'])\n",
    "#count_matrix\n",
    "cosine_sim = linear_kernel(count_matrix[0], count_matrix)\n",
    "cosine_sim"
   ]
  },
  {
   "cell_type": "code",
   "execution_count": 33,
   "metadata": {},
   "outputs": [
    {
     "name": "stdout",
     "output_type": "stream",
     "text": [
      "0                                         Toy Story\n",
      "2996                                    Toy Story 2\n",
      "15342                                   Toy Story 3\n",
      "27373                                         Anina\n",
      "21914                          Toy Story of Terror!\n",
      "25780                               Partysaurus Rex\n",
      "25782                    Toy Story That Time Forgot\n",
      "3308                              Creature Comforts\n",
      "11111                                 Monster House\n",
      "11578                     The Ugly Duckling and Me!\n",
      "13505    Kung Fu Panda: Secrets of the Furious Five\n",
      "17353                                        Cars 2\n",
      "24903                            Jetsons: The Movie\n",
      "25446                   Scooby-Doo! Abracadabra-Doo\n",
      "34406                 Jis Desh Mein Ganga Rehta Hai\n",
      "350                                 The Flintstones\n",
      "369                                     Ri¢hie Ri¢h\n",
      "405                            Addams Family Values\n",
      "581                                         Aladdin\n",
      "608                                  The Aristocats\n",
      "695                                Oliver & Company\n",
      "Name: title, dtype: object\n",
      "User 47 has viewed the following movies:\n",
      "\n",
      "\t48 Hrs., Rating: 4.0\n",
      "\tBack to the Future Part II, Rating: 4.0\n",
      "\t20,000 Leagues Under the Sea, Rating: 5.0\n",
      "\tMuriel's Wedding, Rating: 4.0\n",
      "\tHigh Noon, Rating: 4.0\n",
      "\tTerminator 3: Rise of the Machines, Rating: 4.0\n",
      "\tFaster, Pussycat! Kill! Kill!, Rating: 4.0\n",
      "\tSilent Hill, Rating: 4.0\n",
      "\tThe Conversation, Rating: 3.0\n",
      "\tTo Kill a Mockingbird, Rating: 3.0\n",
      "\n",
      "The following movies are recommended for User 47\n",
      "\n",
      "\tSleepless in Seattle\n",
      "\tThe Million Dollar Hotel\n",
      "\tThe Good Thief\n",
      "\tLonely Hearts\n",
      "\tGalaxy Quest\n",
      "\tNell\n",
      "\tFlags of Our Fathers\n",
      "\tHard Target\n",
      "\tLicense to Wed\n",
      "\tPoint Break\n",
      "\tBirdman of Alcatraz\n",
      "\tMy Darling Clementine\n",
      "\tMission: Impossible II\n",
      "\tWhile You Were Sleeping\n",
      "\tFrankenstein\n",
      "\tThe Thomas Crown Affair\n",
      "\tMurder She Said\n",
      "\tEnd of the World\n",
      "\tBoat\n",
      "\tBeetlejuice\n",
      "\tBeverly Hills Cop III\n",
      "\tMy Name Is Bruce\n",
      "\tMen in Black II\n",
      "\tConfession of a Child of the Century\n",
      "\tStraw Dogs\n",
      "\tEdward Scissorhands\n",
      "\tThe Bachelor\n",
      "\tDr. Jekyll and Mr. Hyde\n",
      "\tSpace Jam\n",
      "\tThe 39 Steps\n",
      "\tCold Mountain\n",
      "\tBonnie and Clyde\n",
      "\tGremlins 2: The New Batch\n",
      "\tForces of Nature\n",
      "\tBullitt\n",
      "\tCool Hand Luke\n",
      "\tShriek If You Know What I Did Last Friday the Thirteenth\n",
      "\tWithin the Woods\n",
      "\tThe Thomas Crown Affair\n",
      "\tThe Rapture\n",
      "\tLoose Screws\n",
      "\tIrma la Douce\n",
      "\tMeet the Robinsons\n",
      "\tFar from the Madding Crowd\n",
      "\tThe Bank Dick\n",
      "\tLaura\n",
      "\tDear Frankie\n",
      "\tRumble Fish\n",
      "\tEscape from New York\n",
      "\tDancer in the Dark\n",
      "\tKen Park\n",
      "\tReality Bites\n",
      "\tLongitude\n",
      "\tThe Return of the King\n",
      "\tSuperstar: The Karen Carpenter Story\n",
      "\tTotally Blonde\n",
      "\tThe Butterfly Effect\n",
      "\tBroken Flowers\n",
      "\tLight of Day\n",
      "\tThe Howling: New Moon Rising\n",
      "\tBean\n",
      "\tEnough\n",
      "\tA Star Is Born\n",
      "\tThe Yes Men\n",
      "\tDog Day Afternoon\n",
      "\tDawn of the Dead\n",
      "\tStand by Me\n",
      "\tThe Big Sleep\n",
      "\tPostal\n",
      "\tLocal Color\n",
      "\tIn Time\n",
      "\tLassie Come Home\n",
      "\tBecause I Said So\n",
      "\tYoung and Innocent\n",
      "\tBill & Ted's Bogus Journey\n",
      "\tMetamorphosis\n",
      "\tBoogie Nights\n",
      "\tMatch Point\n",
      "\tGhost Rider\n",
      "\tThe Garden of Eden\n",
      "\tBackdraft\n",
      "\tUrban Explorer\n",
      "\tJacob's Ladder\n",
      "\tBridge to Terabithia\n",
      "\tVampire's Kiss\n",
      "\tThe Mist\n",
      "\tFools Rush In\n",
      "\tDances with Wolves\n",
      "\tSon of Frankenstein\n",
      "\tHorrible Bosses\n",
      "\tCarry On Doctor\n",
      "\tStranger Than Fiction\n",
      "\tLucky You\n",
      "\tFrankenstein Created Woman\n",
      "\tIce Age: The Meltdown\n",
      "\tCheerleaders' Wild Weekend\n",
      "\tAnd Then There Were None\n",
      "\tThe Lost Continent\n",
      "\tFlash Gordon\n",
      "\tHarry Potter and the Philosopher's Stone\n",
      "\tThe Shipping News\n",
      "\t24 Hour Party People\n",
      "\tSunshine\n",
      "\tPrime\n",
      "\tBrake\n",
      "\tWuthering Heights\n",
      "\tSay Anything...\n",
      "\tSweet November\n",
      "\tThe Night of the Hunter\n",
      "\tThe Skulls II\n",
      "\tSunset Boulevard\n",
      "\tThe Wanderers\n",
      "\tExodus\n",
      "\tNow and Forever\n",
      "\tBlue Velvet\n",
      "\tAmerican History X\n",
      "\tCloser\n",
      "\tLethal Weapon 3\n",
      "\tThe Thirteenth Floor\n",
      "\tThe First Wives Club\n",
      "\tThe Dawn Patrol\n",
      "\tA River Runs Through It\n",
      "\tStomp the Yard\n",
      "\teXistenZ\n",
      "\tThe Man Who Knew Too Much\n",
      "\tSwept from the Sea\n",
      "\tBeowulf\n",
      "\tMission to Mars\n",
      "\tTwilight\n",
      "\tDread\n",
      "\tFrankenstein Unbound\n",
      "\tIdle Hands\n",
      "\tThe Chronicles of Riddick: Dark Fury\n",
      "\tYou, Me and Dupree\n",
      "\tWattstax\n",
      "\tThe Out-of-Towners\n",
      "\tKevin Hart: Laugh at My Pain\n",
      "\tA Christmas Story\n",
      "\tOne Night at McCool's\n",
      "\tEdward, My Son\n",
      "\tRed Light\n",
      "\tWedlock\n",
      "\tNight of the Demons\n",
      "\tCinderella Man\n",
      "\tBridesmaids\n",
      "\tChanging Lanes\n",
      "\tBarton Fink\n",
      "\tBrigham Young\n",
      "\tComanche Station\n",
      "\tThe Lord of the Rings\n",
      "\tBillion Dollar Brain\n",
      "\tMr. Smith Goes to Washington\n",
      "\tFever Pitch\n",
      "\tNorth by Northwest\n",
      "\tThe Hours\n",
      "\tMessenger of Death\n",
      "\tThe Island\n",
      "\tThe Sorcerer's Apprentice\n",
      "\tSaw II\n",
      "\tHomeless to Harvard: The Liz Murray Story\n",
      "\tLetter from an Unknown Woman\n",
      "\tMarlowe\n",
      "\tHeart of the Country\n",
      "\tRock 'n' Roll High School\n",
      "\tThe Revengers' Comedies\n",
      "\tMan with the Screaming Brain\n",
      "\tSaw\n",
      "\tGrizzly Man\n",
      "\tConquest of the Planet of the Apes\n",
      "\tBringing Up Baby\n",
      "\tThe Final Cut\n",
      "\tThe Butter Battle Book\n",
      "\tBride of Frankenstein\n",
      "\tMurder, My Sweet\n",
      "\tQuinceañera\n",
      "\tCarry On Screaming\n",
      "\tK-19: The Widowmaker\n",
      "\tBlondie Knows Best\n",
      "\tJackie Brown\n",
      "\tDeath Line\n",
      "\tThe Halliday Brand\n",
      "\tWilbur Wants to Kill Himself\n",
      "\tThe Sentinel\n",
      "\tBlown Away\n",
      "\tArmy of Darkness\n",
      "\tThe Flying Saucer\n",
      "\tShakespeare in Love\n",
      "\tCity Lights\n",
      "\tA Dandy in Aspic\n",
      "\tImpostor\n",
      "\tLove in the Time of Cholera\n",
      "\tThe Poseidon Adventure\n",
      "\tAn American Tail\n",
      "\tJoshua\n",
      "\tStar 80\n",
      "\tLeon: The Professional\n",
      "\tThe Count of Monte-Cristo\n",
      "\t42nd Street\n",
      "\tThe Karate Kid\n",
      "\tTop of the Food Chain\n"
     ]
    }
   ],
   "source": [
    "print(get_recommendations('Toy Story',count_matrix))\n",
    "print_user_prediction(47, top_n, movies_metadata_df)"
   ]
  },
  {
   "cell_type": "code",
   "execution_count": null,
   "metadata": {},
   "outputs": [],
   "source": []
  },
  {
   "cell_type": "markdown",
   "metadata": {},
   "source": [
    "# Graph Filter"
   ]
  },
  {
   "cell_type": "code",
   "execution_count": 24,
   "metadata": {},
   "outputs": [
    {
     "name": "stdout",
     "output_type": "stream",
     "text": [
      "Requirement already satisfied: neo4j in /usr/local/lib/python3.7/site-packages (1.7.6)\n",
      "Requirement already satisfied: neobolt~=1.7.15 in /usr/local/lib/python3.7/site-packages (from neo4j) (1.7.16)\n",
      "Requirement already satisfied: neotime~=1.7.1 in /usr/local/lib/python3.7/site-packages (from neo4j) (1.7.4)\n",
      "Requirement already satisfied: six in /usr/local/lib/python3.7/site-packages (from neotime~=1.7.1->neo4j) (1.11.0)\n",
      "Requirement already satisfied: pytz in /usr/local/lib/python3.7/site-packages (from neotime~=1.7.1->neo4j) (2018.7)\n",
      "Note: you may need to restart the kernel to use updated packages.\n"
     ]
    }
   ],
   "source": [
    "pip install neo4j"
   ]
  },
  {
   "cell_type": "code",
   "execution_count": 25,
   "metadata": {},
   "outputs": [
    {
     "name": "stdout",
     "output_type": "stream",
     "text": [
      "Requirement already satisfied: neomodel in /usr/local/lib/python3.7/site-packages (3.3.2)\n",
      "Requirement already satisfied: pytz>=2016.10 in /usr/local/lib/python3.7/site-packages (from neomodel) (2018.7)\n",
      "Requirement already satisfied: neo4j-driver==1.7.2 in /usr/local/lib/python3.7/site-packages (from neomodel) (1.7.2)\n",
      "Requirement already satisfied: neotime<2,>=1.7.1 in /usr/local/lib/python3.7/site-packages (from neo4j-driver==1.7.2->neomodel) (1.7.4)\n",
      "Requirement already satisfied: neobolt<2,>=1.7.4 in /usr/local/lib/python3.7/site-packages (from neo4j-driver==1.7.2->neomodel) (1.7.16)\n",
      "Requirement already satisfied: six in /usr/local/lib/python3.7/site-packages (from neotime<2,>=1.7.1->neo4j-driver==1.7.2->neomodel) (1.11.0)\n",
      "Note: you may need to restart the kernel to use updated packages.\n"
     ]
    }
   ],
   "source": [
    "pip install neomodel"
   ]
  },
  {
   "cell_type": "code",
   "execution_count": 27,
   "metadata": {},
   "outputs": [],
   "source": [
    "from neo4j import GraphDatabase\n",
    "\n",
    "uri = \"bolt://localhost:11002\"\n",
    "driver = GraphDatabase.driver(uri, auth=('neo4j', 'ayush'))"
   ]
  },
  {
   "cell_type": "code",
   "execution_count": 31,
   "metadata": {},
   "outputs": [
    {
     "name": "stdout",
     "output_type": "stream",
     "text": [
      "<Record count(n)=10371>\n",
      "<neo4j.BoltStatementResult object at 0x1660dd310>\n"
     ]
    }
   ],
   "source": [
    "session = driver.session()\n",
    "query = \"MATCH (n) RETURN count(n)\"\n",
    "no_count = session.run(query)\n",
    "for i in no_count:\n",
    "    print(i)\n",
    "print(no_count)"
   ]
  },
  {
   "cell_type": "code",
   "execution_count": 32,
   "metadata": {},
   "outputs": [],
   "source": [
    "import json\n",
    "from datetime import datetime\n",
    "from pprint import pprint\n",
    "import codecs\n",
    "import os\n",
    "import json\n",
    "import logging\n",
    "import random\n",
    "from py2neo import Graph, Path, Node, Relationship, cypher"
   ]
  },
  {
   "cell_type": "code",
   "execution_count": 39,
   "metadata": {},
   "outputs": [],
   "source": [
    "#walk_limit defines the number of nodes it can hop\n",
    "walk_limit = 5 \n",
    "\n",
    "#All types of relationships possible, will be helpful in defining probabilities\n",
    "relationships = [\"FAVORITE\",\"GENRES\",\"SIMILAR\",\"WATCHED\"]"
   ]
  },
  {
   "cell_type": "code",
   "execution_count": 40,
   "metadata": {},
   "outputs": [],
   "source": [
    "def generateRandomPath():\n",
    "    #query to select a random node to start with\n",
    "    query = '''\n",
    "        START t=node(*) \n",
    "        MATCH (a)-[]->(t) \n",
    "        RETURN a\n",
    "        SKIP {n} LIMIT 1'''\n",
    "    \n",
    "    #get total number of nodes\n",
    "    node_count_query =  \"MATCH (n) RETURN count(n)\"\n",
    "    node_count = 10371\n",
    "    session = driver.session()\n",
    "    \n",
    "    #select a random node\n",
    "    #random_node = (session.run(query,{\"n\":random.randint(0,node_count - 1), \"m\":1}))\n",
    "    random_node = (session.run(query,{\"n\":862, \"m\":1}))\n",
    "\n",
    "    #print(type(random_node))\n",
    "    #x = random_node.single()[0]\n",
    "#     print(x)\n",
    "#     print(x.id)\n",
    "    #print(random_node.single()[0])\n",
    "    \n",
    "#     for i in random_node:\n",
    "#         print (i)\n",
    "    r_node =  random_node.single()[0]\n",
    "    return walk(r_node, 0) # start random walk and return the final node"
   ]
  },
  {
   "cell_type": "code",
   "execution_count": 41,
   "metadata": {},
   "outputs": [],
   "source": [
    "path = []"
   ]
  },
  {
   "cell_type": "code",
   "execution_count": 42,
   "metadata": {},
   "outputs": [],
   "source": [
    "def walk(start_node, current_length, prev_node=None, max_length = walk_limit):\n",
    "    #print(type(start_node.labels))\n",
    "    if (start_node.labels == {'Movies'}):\n",
    "        #print(start_node)\n",
    "        path.append(start_node)\n",
    "    else:\n",
    "        current_length-=1\n",
    "    #return if path length exceed limit\n",
    "    if (current_length >= max_length):\n",
    "        return {start_node:current_length}\n",
    "    \n",
    "    #query to get all incoming and outgoing paths from a node\n",
    "    query = \"\"\"match p=(n)-[]-() where id(n)={id} return p\"\"\"\n",
    "    session = driver.session()\n",
    "    rels = session.run(query,{\"id\":start_node.id})\n",
    "#     for i in rels:\n",
    "#         print(i)\n",
    "    #Convert the output to a list\n",
    "    relationships = rels.data()\n",
    "    #print(relationships)\n",
    "    size = len(relationships)\n",
    "    \n",
    "    #select a random node\n",
    "    node = random.randint(0,size-1)\n",
    "    next_node = relationships[node][\"p\"].end_node\n",
    "    #print(relationships[node][\"p\"].end_node)\n",
    "    current_node = relationships[node][\"p\"].start_node\n",
    "    \n",
    "    #If next random node is similar to previous node, choose another\n",
    "    if(next_node.id == current_node.id and size > 1):\n",
    "        node = random.randint(0,size-1)\n",
    "        next_node = relationships[node][\"p\"].end_node\n",
    "        current_node = relationships[node][\"p\"].start_node\n",
    "    #if previous node is the only possible path, terminate\n",
    "    elif(next_node.id == current_node.id and size == 1):\n",
    "        \n",
    "        return {current_node:current_length}\n",
    "        \n",
    "    return walk(next_node, current_length + 1, current_node)"
   ]
  },
  {
   "cell_type": "code",
   "execution_count": 43,
   "metadata": {},
   "outputs": [
    {
     "name": "stdout",
     "output_type": "stream",
     "text": [
      "{<Node id=728 labels={'Movies'} properties={'rating_mean': '3.5833333333333335', 'title': 'Flirting With Disaster (1996)', 'movieId': '125'}>: 5}\n",
      "<Node id=3385 labels={'Movies'} properties={'rating_mean': '4.0375', 'title': 'Road Warrior, The (Mad Max 2) (1981)', 'movieId': '3703'}>\n",
      "<Node id=2456 labels={'Movies'} properties={'rating_mean': '3.383720930232558', 'title': 'Fly, The (1986)', 'movieId': '2455'}>\n",
      "<Node id=1803 labels={'Movies'} properties={'rating_mean': '2.94', 'title': 'Event Horizon (1997)', 'movieId': '1590'}>\n",
      "<Node id=1815 labels={'Movies'} properties={'rating_mean': '2.4615384615384617', 'title': 'Mimic (1997)', 'movieId': '1603'}>\n",
      "<Node id=3480 labels={'Movies'} properties={'rating_mean': '2.2948717948717947', 'title': 'Hollow Man (2000)', 'movieId': '3826'}>\n",
      "<Node id=728 labels={'Movies'} properties={'rating_mean': '3.5833333333333335', 'title': 'Flirting With Disaster (1996)', 'movieId': '125'}>\n"
     ]
    }
   ],
   "source": [
    "print(generateRandomPath())\n",
    "#for i in range(5):\n",
    "    \n",
    "for i in path:\n",
    "    print(i)"
   ]
  },
  {
   "cell_type": "code",
   "execution_count": null,
   "metadata": {},
   "outputs": [],
   "source": []
  },
  {
   "cell_type": "code",
   "execution_count": null,
   "metadata": {},
   "outputs": [],
   "source": []
  },
  {
   "cell_type": "code",
   "execution_count": null,
   "metadata": {},
   "outputs": [],
   "source": []
  },
  {
   "cell_type": "code",
   "execution_count": null,
   "metadata": {},
   "outputs": [],
   "source": []
  },
  {
   "cell_type": "code",
   "execution_count": null,
   "metadata": {},
   "outputs": [],
   "source": []
  },
  {
   "cell_type": "markdown",
   "metadata": {},
   "source": [
    "# GRAPH CODE HERE"
   ]
  },
  {
   "cell_type": "code",
   "execution_count": 28,
   "metadata": {},
   "outputs": [
    {
     "ename": "IndexError",
     "evalue": "list index out of range",
     "output_type": "error",
     "traceback": [
      "\u001b[0;31m---------------------------------------------------------------------------\u001b[0m",
      "\u001b[0;31mIndexError\u001b[0m                                Traceback (most recent call last)",
      "\u001b[0;32m<ipython-input-28-e1cd8f77545e>\u001b[0m in \u001b[0;36m<module>\u001b[0;34m\u001b[0m\n\u001b[0;32m----> 1\u001b[0;31m \u001b[0mfirst_degree_away\u001b[0m\u001b[0;34m[\u001b[0m\u001b[0;36m1\u001b[0m\u001b[0;34m]\u001b[0m\u001b[0;34m\u001b[0m\u001b[0;34m\u001b[0m\u001b[0m\n\u001b[0m",
      "\u001b[0;31mIndexError\u001b[0m: list index out of range"
     ]
    }
   ],
   "source": [
    "def get_count_first_degree_films_of(tx, title):\n",
    "    for record in tx.run(\"MATCH (origin:MOVIE)-[:APPEARED_IN]-(actor)-[:APPEARED_IN]-(first_movie:MOVIE)\"\n",
    "                         \"WHERE origin.title = {title} \"\n",
    "                         \"RETURN count(*)\", title=title):\n",
    "        print(record[0])\n",
    "        \n",
    "def get_first_degree_films_of(tx, title):\n",
    "    nodes = []\n",
    "    \n",
    "    for record in tx.run(\"MATCH (origin:MOVIE)-[:APPEARED_IN]-(actor)-[:APPEARED_IN]-(first_movie:MOVIE)\"\n",
    "                         \"WHERE origin.title = {title} \"\n",
    "                         \"RETURN first_movie\", title=title):\n",
    "        \n",
    "        nodes.append(record.data())\n",
    "    \n",
    "    return nodes\n",
    "\n",
    "first_degree_away = None\n",
    "with driver.session() as session:\n",
    "    first_degree_away = session.read_transaction(get_first_degree_films_of, 'Superman')"
   ]
  },
  {
   "cell_type": "code",
   "execution_count": 16,
   "metadata": {},
   "outputs": [
    {
     "ename": "NameError",
     "evalue": "name 'namedtuple' is not defined",
     "output_type": "error",
     "traceback": [
      "\u001b[0;31m---------------------------------------------------------------------------\u001b[0m",
      "\u001b[0;31mNameError\u001b[0m                                 Traceback (most recent call last)",
      "\u001b[0;32m<ipython-input-16-ab4670e63e77>\u001b[0m in \u001b[0;36m<module>\u001b[0;34m\u001b[0m\n\u001b[0;32m----> 1\u001b[0;31m \u001b[0mGraphMember\u001b[0m \u001b[0;34m=\u001b[0m \u001b[0mnamedtuple\u001b[0m\u001b[0;34m(\u001b[0m\u001b[0;34m'GraphMember'\u001b[0m\u001b[0;34m,\u001b[0m \u001b[0;34m[\u001b[0m\u001b[0;34m'title'\u001b[0m\u001b[0;34m,\u001b[0m \u001b[0;34m'movie_id'\u001b[0m\u001b[0;34m]\u001b[0m\u001b[0;34m)\u001b[0m\u001b[0;34m\u001b[0m\u001b[0;34m\u001b[0m\u001b[0m\n\u001b[0m\u001b[1;32m      2\u001b[0m \u001b[0;34m\u001b[0m\u001b[0m\n\u001b[1;32m      3\u001b[0m \u001b[0;32mdef\u001b[0m \u001b[0mneo4j_results_to_tuples\u001b[0m\u001b[0;34m(\u001b[0m\u001b[0mresults\u001b[0m\u001b[0;34m)\u001b[0m\u001b[0;34m:\u001b[0m\u001b[0;34m\u001b[0m\u001b[0;34m\u001b[0m\u001b[0m\n\u001b[1;32m      4\u001b[0m     \u001b[0;32mreturn\u001b[0m \u001b[0;34m[\u001b[0m\u001b[0mGraphMember\u001b[0m\u001b[0;34m(\u001b[0m\u001b[0mnode\u001b[0m\u001b[0;34m[\u001b[0m\u001b[0;34m'first_movie'\u001b[0m\u001b[0;34m]\u001b[0m\u001b[0;34m.\u001b[0m\u001b[0mget\u001b[0m\u001b[0;34m(\u001b[0m\u001b[0;34m'title'\u001b[0m\u001b[0;34m)\u001b[0m\u001b[0;34m,\u001b[0m \u001b[0mnode\u001b[0m\u001b[0;34m[\u001b[0m\u001b[0;34m'first_movie'\u001b[0m\u001b[0;34m]\u001b[0m\u001b[0;34m.\u001b[0m\u001b[0mget\u001b[0m\u001b[0;34m(\u001b[0m\u001b[0;34m'movie_id'\u001b[0m\u001b[0;34m)\u001b[0m\u001b[0;34m)\u001b[0m \u001b[0;32mfor\u001b[0m \u001b[0mnode\u001b[0m \u001b[0;32min\u001b[0m \u001b[0mresults\u001b[0m\u001b[0;34m]\u001b[0m\u001b[0;34m\u001b[0m\u001b[0;34m\u001b[0m\u001b[0m\n",
      "\u001b[0;31mNameError\u001b[0m: name 'namedtuple' is not defined"
     ]
    }
   ],
   "source": [
    "GraphMember = namedtuple('GraphMember', ['title', 'movie_id'])\n",
    "\n",
    "def neo4j_results_to_tuples(results):\n",
    "    return [GraphMember(node['first_movie'].get('title'), node['first_movie'].get('movie_id')) for node in results]"
   ]
  },
  {
   "cell_type": "code",
   "execution_count": null,
   "metadata": {},
   "outputs": [],
   "source": [
    "neo4j_results_to_tuples(first_degree_away)"
   ]
  },
  {
   "cell_type": "code",
   "execution_count": null,
   "metadata": {},
   "outputs": [],
   "source": [
    "def get_first_degree_films_of(tx, title):\n",
    "    nodes = []\n",
    "\n",
    "    for record in tx.run(\"MATCH (origin:MOVIE)-[:APPEARED_IN]-(actor)-[:APPEARED_IN]-(first_movie:MOVIE)\"\n",
    "                         \"WHERE origin.title = {title} \"\n",
    "                         \"RETURN first_movie\", title=title):\n",
    "        nodes.append(record.data())\n",
    "\n",
    "    return nodes"
   ]
  },
  {
   "cell_type": "markdown",
   "metadata": {},
   "source": [
    "# Get First Degree Away Films of Sleepless in Seattle"
   ]
  },
  {
   "cell_type": "code",
   "execution_count": null,
   "metadata": {},
   "outputs": [],
   "source": [
    "first_degree_away = None\n",
    "with driver.session() as session:\n",
    "    first_degree_away = session.read_transaction(get_first_degree_films_of, 'Sleepless in Seattle')"
   ]
  },
  {
   "cell_type": "code",
   "execution_count": null,
   "metadata": {},
   "outputs": [],
   "source": []
  },
  {
   "cell_type": "code",
   "execution_count": null,
   "metadata": {},
   "outputs": [],
   "source": [
    "def neo4j_results_to_tuples(results):\n",
    "    return [GraphMember(node['first_movie'].get('title'), node['first_movie'].get('movie_id')) for node in results]"
   ]
  },
  {
   "cell_type": "code",
   "execution_count": null,
   "metadata": {},
   "outputs": [],
   "source": [
    "def get_connected_movies(list_favorite_movies, driver):\n",
    "    list_connected_movies = []\n",
    "\n",
    "    with driver.session() as session:\n",
    "        for movie in list_favorite_movies:\n",
    "            first_degree_away_films = session.read_transaction(get_first_degree_films_of, movie)\n",
    "            film_tups = neo4j_results_to_tuples(first_degree_away_films)\n",
    "            list_connected_movies.extend(film_tups)\n",
    "\n",
    "    return list_connected_movies"
   ]
  },
  {
   "cell_type": "markdown",
   "metadata": {},
   "source": [
    "## Run a test with a user"
   ]
  },
  {
   "cell_type": "code",
   "execution_count": null,
   "metadata": {},
   "outputs": [],
   "source": [
    "user_number = 321\n",
    "predictions_dict = predicted_movies_by_name\n",
    "get_graph_on = users_top_n_movies(10, user_number, predictions_dict, movies_metadata_df)"
   ]
  },
  {
   "cell_type": "code",
   "execution_count": null,
   "metadata": {},
   "outputs": [],
   "source": [
    "get_graph_on"
   ]
  },
  {
   "cell_type": "code",
   "execution_count": null,
   "metadata": {},
   "outputs": [],
   "source": []
  },
  {
   "cell_type": "code",
   "execution_count": null,
   "metadata": {},
   "outputs": [],
   "source": [
    "def get_top_three_favs(user_id):\n",
    "    \n",
    "    favorite_seen_movie_array = users_top_n_movies(200, user_id, predicted_movies_by_name, movies_metadata_df1)\n",
    "    sorted_seen_movies = sorted(favorite_seen_movie_array, key=lambda k: k[1], reverse=True)\n",
    "    return sorted_seen_movies[0:3]"
   ]
  },
  {
   "cell_type": "code",
   "execution_count": null,
   "metadata": {},
   "outputs": [],
   "source": [
    "get_top_three_favs(47)"
   ]
  },
  {
   "cell_type": "markdown",
   "metadata": {},
   "source": [
    "# Collab Filter List"
   ]
  },
  {
   "cell_type": "code",
   "execution_count": null,
   "metadata": {},
   "outputs": [],
   "source": [
    "collab_filtered_movies = sorted(collab_filter_recommendations(47, top_n, movies_metadata_df1), key=lambda k: k[1], reverse=True)\n",
    "collab_filtered_movies"
   ]
  },
  {
   "cell_type": "markdown",
   "metadata": {},
   "source": [
    "## Content Filtered"
   ]
  },
  {
   "cell_type": "code",
   "execution_count": null,
   "metadata": {},
   "outputs": [],
   "source": [
    "# #get_movie_id('The Endless Summer', movies_metadata_df1)\n",
    "# content_filtered_tups = top_n_closest_content_filtered(50, 321, content_filter_df)\n",
    "# content_filtered_tups"
   ]
  },
  {
   "cell_type": "code",
   "execution_count": null,
   "metadata": {},
   "outputs": [],
   "source": [
    "content_filtered_tups = get_recommendations('Sherlock Holmes',count_matrix)\n",
    "content_filtered_tups"
   ]
  },
  {
   "cell_type": "code",
   "execution_count": null,
   "metadata": {},
   "outputs": [],
   "source": [
    "favorite_list = get_top_three_favs(321)\n",
    "movie_names = [movie[0] for movie in favorite_list]"
   ]
  },
  {
   "cell_type": "code",
   "execution_count": null,
   "metadata": {},
   "outputs": [],
   "source": [
    "first_degree_away_films = get_connected_movies([mov[0] for mov in top_three], driver)"
   ]
  },
  {
   "cell_type": "code",
   "execution_count": null,
   "metadata": {},
   "outputs": [],
   "source": [
    "graph_id_content_filter = set({movie[1] for movie in first_degree_away})"
   ]
  },
  {
   "cell_type": "code",
   "execution_count": null,
   "metadata": {},
   "outputs": [],
   "source": [
    "graph_name_collab_filter = set({movie[0] for movie in first_degree_away})"
   ]
  },
  {
   "cell_type": "code",
   "execution_count": null,
   "metadata": {},
   "outputs": [],
   "source": [
    "content_id_set = set(movie[0] for movie in content_filtered_tups)"
   ]
  },
  {
   "cell_type": "code",
   "execution_count": null,
   "metadata": {},
   "outputs": [],
   "source": [
    "collab_movie_name_set = set(movie[0] for movie in collab_filtered_movies)"
   ]
  },
  {
   "cell_type": "code",
   "execution_count": null,
   "metadata": {},
   "outputs": [],
   "source": [
    "graph_name_collab_filter & collab_movie_name_set"
   ]
  },
  {
   "cell_type": "code",
   "execution_count": null,
   "metadata": {},
   "outputs": [],
   "source": [
    "content_id_set & graph_id_content_filter"
   ]
  },
  {
   "cell_type": "code",
   "execution_count": null,
   "metadata": {},
   "outputs": [],
   "source": [
    "get_movie_name(550, movies_metadata_df1)"
   ]
  }
 ],
 "metadata": {
  "kernelspec": {
   "display_name": "Python 3",
   "language": "python",
   "name": "python3"
  },
  "language_info": {
   "codemirror_mode": {
    "name": "ipython",
    "version": 3
   },
   "file_extension": ".py",
   "mimetype": "text/x-python",
   "name": "python",
   "nbconvert_exporter": "python",
   "pygments_lexer": "ipython3",
   "version": "3.7.4"
  }
 },
 "nbformat": 4,
 "nbformat_minor": 2
}
