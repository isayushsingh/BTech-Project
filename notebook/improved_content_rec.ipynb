{
 "cells": [
  {
   "cell_type": "code",
   "execution_count": 1,
   "metadata": {},
   "outputs": [],
   "source": [
    "import pandas as pd\n",
    "import numpy as np\n",
    "from ast import literal_eval\n",
    "from nltk.stem.snowball import SnowballStemmer\n",
    "from sklearn.metrics.pairwise import linear_kernel, cosine_similarity\n",
    "from sklearn.feature_extraction.text import CountVectorizer"
   ]
  },
  {
   "cell_type": "code",
   "execution_count": 2,
   "metadata": {},
   "outputs": [],
   "source": [
    "def convert_ids(ids_in_csv):\n",
    "    return pd.to_numeric(ids_in_csv, errors='coerce').astype('int64')\n",
    "\n",
    "def convert_to_float(ids_in_csv):\n",
    "    return pd.to_numeric(ids_in_csv, errors='coerce').astype('float64')\n",
    "\n",
    "def to_json(csv_entry):\n",
    "    return json.loads(re.sub('\\'', '\"', csv_entry))"
   ]
  },
  {
   "cell_type": "code",
   "execution_count": 4,
   "metadata": {},
   "outputs": [],
   "source": [
    "md = pd.read_csv('../data/movies_metadata.csv'\n",
    "                , converters={'id': lambda x: convert_ids(x), 'imdb_id': lambda x: convert_ids(x)}\n",
    "                ,usecols=['id', 'original_title', 'budget', 'genres','spoken_languages', 'title','release_date','vote_count','vote_average'])\n",
    "md.drop_duplicates(subset =\"id\", keep = 'first', inplace = True)\n",
    "md = md[md.spoken_languages == \"\"\"[{'iso_639_1': 'en', 'name': 'English'}]\"\"\"]"
   ]
  },
  {
   "cell_type": "code",
   "execution_count": 5,
   "metadata": {},
   "outputs": [],
   "source": [
    "credits = pd.read_csv('../data/credits.csv')\n",
    "credits.drop_duplicates(subset =\"id\", keep = 'first', inplace = True)\n",
    "keywords = pd.read_csv('../data/keywords.csv')\n",
    "keywords.drop_duplicates(subset =\"id\", keep = 'first', inplace = True)"
   ]
  },
  {
   "cell_type": "code",
   "execution_count": 6,
   "metadata": {},
   "outputs": [
    {
     "data": {
      "text/plain": [
       "(22381, 9)"
      ]
     },
     "execution_count": 6,
     "metadata": {},
     "output_type": "execute_result"
    }
   ],
   "source": [
    "md.shape"
   ]
  },
  {
   "cell_type": "code",
   "execution_count": 7,
   "metadata": {},
   "outputs": [],
   "source": [
    "md['genres'] = md['genres'].fillna('[]').apply(literal_eval).apply(lambda x: [i['name'] for i in x] if isinstance(x, list) else [])\n",
    "#md = md.drop([19730, 29503, 35587])\n",
    "#md = md.drop([19730])\n",
    "md['year'] = pd.to_datetime(md['release_date'], errors='coerce').apply(lambda x: str(x).split('-')[0] if x != np.nan else np.nan)"
   ]
  },
  {
   "cell_type": "code",
   "execution_count": 8,
   "metadata": {},
   "outputs": [],
   "source": [
    "keywords['id'] = keywords['id'].astype('int')\n",
    "credits['id'] = credits['id'].astype('int')\n",
    "md['id'] = md['id'].astype('int')"
   ]
  },
  {
   "cell_type": "code",
   "execution_count": 9,
   "metadata": {},
   "outputs": [
    {
     "name": "stdout",
     "output_type": "stream",
     "text": [
      "22381 21342 45432 45432\n"
     ]
    }
   ],
   "source": [
    "print(md['id'].nunique(),md['original_title'].nunique(),credits['id'].nunique(),keywords['id'].nunique())"
   ]
  },
  {
   "cell_type": "code",
   "execution_count": 10,
   "metadata": {},
   "outputs": [],
   "source": [
    "md = md.merge(credits,how='inner', left_on='id', right_on='id')\n",
    "md = md.merge(keywords,how='inner', left_on='id', right_on='id')"
   ]
  },
  {
   "cell_type": "code",
   "execution_count": 11,
   "metadata": {},
   "outputs": [
    {
     "name": "stdout",
     "output_type": "stream",
     "text": [
      "22381 21330 45432 45432\n"
     ]
    }
   ],
   "source": [
    "print(md['id'].nunique(),md['title'].nunique(),credits['id'].nunique(),keywords['id'].nunique())"
   ]
  },
  {
   "cell_type": "code",
   "execution_count": 12,
   "metadata": {},
   "outputs": [],
   "source": [
    "md['cast'] = md['cast'].apply(literal_eval)\n",
    "md['crew'] = md['crew'].apply(literal_eval)\n",
    "md['keywords'] = md['keywords'].apply(literal_eval)\n",
    "md['cast_size'] = md['cast'].apply(lambda x: len(x))\n",
    "md['crew_size'] = md['crew'].apply(lambda x: len(x))"
   ]
  },
  {
   "cell_type": "code",
   "execution_count": 13,
   "metadata": {},
   "outputs": [],
   "source": [
    "def get_director(x):\n",
    "    for i in x:\n",
    "        if i['job'] == 'Director':\n",
    "            return i['name']\n",
    "    return np.nan"
   ]
  },
  {
   "cell_type": "code",
   "execution_count": 14,
   "metadata": {},
   "outputs": [],
   "source": [
    "md['director'] = md['crew'].apply(get_director)"
   ]
  },
  {
   "cell_type": "code",
   "execution_count": 15,
   "metadata": {},
   "outputs": [],
   "source": [
    "md['cast'] = md['cast'].apply(lambda x: [i['name'] for i in x] if isinstance(x, list) else [])\n",
    "md['cast'] = md['cast'].apply(lambda x: x[:3] if len(x) >=3 else x)\n",
    "\n",
    "md['keywords'] = md['keywords'].apply(lambda x: [i['name'] for i in x] if isinstance(x, list) else [])\n",
    "\n",
    "md['cast'] = md['cast'].apply(lambda x: [str.lower(i.replace(\" \", \"\")) for i in x])\n",
    "\n",
    "md['director'] = md['director'].astype('str').apply(lambda x: str.lower(x.replace(\" \", \"\")))\n",
    "md['director'] = md['director'].apply(lambda x: [x,x, x])"
   ]
  },
  {
   "cell_type": "code",
   "execution_count": 16,
   "metadata": {},
   "outputs": [],
   "source": [
    "s = md.apply(lambda x: pd.Series(x['keywords']),axis=1).stack().reset_index(level=1, drop=True)\n",
    "s.name = 'keyword'\n",
    "\n",
    "s = s.value_counts()\n",
    "s = s[s > 1]"
   ]
  },
  {
   "cell_type": "code",
   "execution_count": 19,
   "metadata": {},
   "outputs": [
    {
     "data": {
      "text/plain": [
       "'dog'"
      ]
     },
     "execution_count": 19,
     "metadata": {},
     "output_type": "execute_result"
    }
   ],
   "source": [
    "stemmer = SnowballStemmer('english')\n",
    "stemmer.stem('dogs')"
   ]
  },
  {
   "cell_type": "code",
   "execution_count": 20,
   "metadata": {},
   "outputs": [],
   "source": [
    "def filter_keywords(x):\n",
    "    words = []\n",
    "    for i in x:\n",
    "        if i in s:\n",
    "            words.append(i)\n",
    "    return words"
   ]
  },
  {
   "cell_type": "code",
   "execution_count": 21,
   "metadata": {},
   "outputs": [],
   "source": [
    "md['keywords'] = md['keywords'].apply(filter_keywords)\n",
    "md['keywords'] = md['keywords'].apply(lambda x: [stemmer.stem(i) for i in x])\n",
    "md['keywords'] = md['keywords'].apply(lambda x: [str.lower(i.replace(\" \", \"\")) for i in x])"
   ]
  },
  {
   "cell_type": "code",
   "execution_count": 22,
   "metadata": {},
   "outputs": [],
   "source": [
    "md['soup'] = md['keywords'] + md['cast'] + md['director'] + md['genres']\n",
    "md['soup'] = md['soup'].apply(lambda x: ' '.join(x))"
   ]
  },
  {
   "cell_type": "code",
   "execution_count": null,
   "metadata": {},
   "outputs": [],
   "source": []
  },
  {
   "cell_type": "code",
   "execution_count": 23,
   "metadata": {},
   "outputs": [],
   "source": [
    "md = md.sort_values(by='id')\n",
    "md = md.reset_index()\n",
    "titles = md['title']\n",
    "indices = pd.Series(md.index, index=md['title'])"
   ]
  },
  {
   "cell_type": "code",
   "execution_count": 24,
   "metadata": {
    "scrolled": true
   },
   "outputs": [
    {
     "data": {
      "text/html": [
       "<div>\n",
       "<style scoped>\n",
       "    .dataframe tbody tr th:only-of-type {\n",
       "        vertical-align: middle;\n",
       "    }\n",
       "\n",
       "    .dataframe tbody tr th {\n",
       "        vertical-align: top;\n",
       "    }\n",
       "\n",
       "    .dataframe thead th {\n",
       "        text-align: right;\n",
       "    }\n",
       "</style>\n",
       "<table border=\"1\" class=\"dataframe\">\n",
       "  <thead>\n",
       "    <tr style=\"text-align: right;\">\n",
       "      <th></th>\n",
       "      <th>index</th>\n",
       "      <th>budget</th>\n",
       "      <th>genres</th>\n",
       "      <th>id</th>\n",
       "      <th>original_title</th>\n",
       "      <th>release_date</th>\n",
       "      <th>spoken_languages</th>\n",
       "      <th>title</th>\n",
       "      <th>vote_average</th>\n",
       "      <th>vote_count</th>\n",
       "      <th>year</th>\n",
       "      <th>cast</th>\n",
       "      <th>crew</th>\n",
       "      <th>keywords</th>\n",
       "      <th>cast_size</th>\n",
       "      <th>crew_size</th>\n",
       "      <th>director</th>\n",
       "      <th>soup</th>\n",
       "    </tr>\n",
       "  </thead>\n",
       "  <tbody>\n",
       "    <tr>\n",
       "      <th>0</th>\n",
       "      <td>10</td>\n",
       "      <td>4000000</td>\n",
       "      <td>[Crime, Comedy]</td>\n",
       "      <td>5</td>\n",
       "      <td>Four Rooms</td>\n",
       "      <td>1995-12-09</td>\n",
       "      <td>[{'iso_639_1': 'en', 'name': 'English'}]</td>\n",
       "      <td>Four Rooms</td>\n",
       "      <td>6.5</td>\n",
       "      <td>539.0</td>\n",
       "      <td>1995</td>\n",
       "      <td>[timroth, antoniobanderas, jenniferbeals]</td>\n",
       "      <td>[{'credit_id': '52fe420dc3a36847f800011b', 'de...</td>\n",
       "      <td>[hotel, newyear'sev, witch, bet, hotelroom, sp...</td>\n",
       "      <td>24</td>\n",
       "      <td>88</td>\n",
       "      <td>[allisonanders, allisonanders, allisonanders]</td>\n",
       "      <td>hotel newyear'sev witch bet hotelroom sperm lo...</td>\n",
       "    </tr>\n",
       "    <tr>\n",
       "      <th>1</th>\n",
       "      <td>323</td>\n",
       "      <td>0</td>\n",
       "      <td>[Action, Thriller, Crime]</td>\n",
       "      <td>6</td>\n",
       "      <td>Judgment Night</td>\n",
       "      <td>1993-10-15</td>\n",
       "      <td>[{'iso_639_1': 'en', 'name': 'English'}]</td>\n",
       "      <td>Judgment Night</td>\n",
       "      <td>6.4</td>\n",
       "      <td>79.0</td>\n",
       "      <td>1993</td>\n",
       "      <td>[emilioestevez, cubagoodingjr., denisleary]</td>\n",
       "      <td>[{'credit_id': '52fe420dc3a36847f800023d', 'de...</td>\n",
       "      <td>[chicago, drugdeal, boxingmatch, escap, onenight]</td>\n",
       "      <td>15</td>\n",
       "      <td>16</td>\n",
       "      <td>[stephenhopkins, stephenhopkins, stephenhopkins]</td>\n",
       "      <td>chicago drugdeal boxingmatch escap onenight em...</td>\n",
       "    </tr>\n",
       "    <tr>\n",
       "      <th>2</th>\n",
       "      <td>168</td>\n",
       "      <td>11000000</td>\n",
       "      <td>[Adventure, Action, Science Fiction]</td>\n",
       "      <td>11</td>\n",
       "      <td>Star Wars</td>\n",
       "      <td>1977-05-25</td>\n",
       "      <td>[{'iso_639_1': 'en', 'name': 'English'}]</td>\n",
       "      <td>Star Wars</td>\n",
       "      <td>8.1</td>\n",
       "      <td>6778.0</td>\n",
       "      <td>1977</td>\n",
       "      <td>[markhamill, harrisonford, carriefisher]</td>\n",
       "      <td>[{'credit_id': '52fe420dc3a36847f8000437', 'de...</td>\n",
       "      <td>[android, galaxi, hermit, deathstar, lightsab,...</td>\n",
       "      <td>106</td>\n",
       "      <td>20</td>\n",
       "      <td>[georgelucas, georgelucas, georgelucas]</td>\n",
       "      <td>android galaxi hermit deathstar lightsab jedi ...</td>\n",
       "    </tr>\n",
       "    <tr>\n",
       "      <th>3</th>\n",
       "      <td>3976</td>\n",
       "      <td>94000000</td>\n",
       "      <td>[Animation, Family]</td>\n",
       "      <td>12</td>\n",
       "      <td>Finding Nemo</td>\n",
       "      <td>2003-05-30</td>\n",
       "      <td>[{'iso_639_1': 'en', 'name': 'English'}]</td>\n",
       "      <td>Finding Nemo</td>\n",
       "      <td>7.6</td>\n",
       "      <td>6292.0</td>\n",
       "      <td>2003</td>\n",
       "      <td>[albertbrooks, ellendegeneres, alexandergould]</td>\n",
       "      <td>[{'credit_id': '52fe420ec3a36847f80006b1', 'de...</td>\n",
       "      <td>[fathersonrelationship, harbor, underwat, grea...</td>\n",
       "      <td>24</td>\n",
       "      <td>104</td>\n",
       "      <td>[andrewstanton, andrewstanton, andrewstanton]</td>\n",
       "      <td>fathersonrelationship harbor underwat greatbar...</td>\n",
       "    </tr>\n",
       "    <tr>\n",
       "      <th>4</th>\n",
       "      <td>233</td>\n",
       "      <td>55000000</td>\n",
       "      <td>[Comedy, Drama, Romance]</td>\n",
       "      <td>13</td>\n",
       "      <td>Forrest Gump</td>\n",
       "      <td>1994-07-06</td>\n",
       "      <td>[{'iso_639_1': 'en', 'name': 'English'}]</td>\n",
       "      <td>Forrest Gump</td>\n",
       "      <td>8.2</td>\n",
       "      <td>8147.0</td>\n",
       "      <td>1994</td>\n",
       "      <td>[tomhanks, robinwright, garysinise]</td>\n",
       "      <td>[{'credit_id': '52fe420ec3a36847f800072d', 'de...</td>\n",
       "      <td>[vietnamveteran, hippi, mentallydis, run, base...</td>\n",
       "      <td>66</td>\n",
       "      <td>131</td>\n",
       "      <td>[robertzemeckis, robertzemeckis, robertzemeckis]</td>\n",
       "      <td>vietnamveteran hippi mentallydis run basedonno...</td>\n",
       "    </tr>\n",
       "  </tbody>\n",
       "</table>\n",
       "</div>"
      ],
      "text/plain": [
       "   index    budget                                genres  id  original_title  \\\n",
       "0     10   4000000                       [Crime, Comedy]   5      Four Rooms   \n",
       "1    323         0             [Action, Thriller, Crime]   6  Judgment Night   \n",
       "2    168  11000000  [Adventure, Action, Science Fiction]  11       Star Wars   \n",
       "3   3976  94000000                   [Animation, Family]  12    Finding Nemo   \n",
       "4    233  55000000              [Comedy, Drama, Romance]  13    Forrest Gump   \n",
       "\n",
       "  release_date                          spoken_languages           title  \\\n",
       "0   1995-12-09  [{'iso_639_1': 'en', 'name': 'English'}]      Four Rooms   \n",
       "1   1993-10-15  [{'iso_639_1': 'en', 'name': 'English'}]  Judgment Night   \n",
       "2   1977-05-25  [{'iso_639_1': 'en', 'name': 'English'}]       Star Wars   \n",
       "3   2003-05-30  [{'iso_639_1': 'en', 'name': 'English'}]    Finding Nemo   \n",
       "4   1994-07-06  [{'iso_639_1': 'en', 'name': 'English'}]    Forrest Gump   \n",
       "\n",
       "   vote_average  vote_count  year  \\\n",
       "0           6.5       539.0  1995   \n",
       "1           6.4        79.0  1993   \n",
       "2           8.1      6778.0  1977   \n",
       "3           7.6      6292.0  2003   \n",
       "4           8.2      8147.0  1994   \n",
       "\n",
       "                                             cast  \\\n",
       "0       [timroth, antoniobanderas, jenniferbeals]   \n",
       "1     [emilioestevez, cubagoodingjr., denisleary]   \n",
       "2        [markhamill, harrisonford, carriefisher]   \n",
       "3  [albertbrooks, ellendegeneres, alexandergould]   \n",
       "4             [tomhanks, robinwright, garysinise]   \n",
       "\n",
       "                                                crew  \\\n",
       "0  [{'credit_id': '52fe420dc3a36847f800011b', 'de...   \n",
       "1  [{'credit_id': '52fe420dc3a36847f800023d', 'de...   \n",
       "2  [{'credit_id': '52fe420dc3a36847f8000437', 'de...   \n",
       "3  [{'credit_id': '52fe420ec3a36847f80006b1', 'de...   \n",
       "4  [{'credit_id': '52fe420ec3a36847f800072d', 'de...   \n",
       "\n",
       "                                            keywords  cast_size  crew_size  \\\n",
       "0  [hotel, newyear'sev, witch, bet, hotelroom, sp...         24         88   \n",
       "1  [chicago, drugdeal, boxingmatch, escap, onenight]         15         16   \n",
       "2  [android, galaxi, hermit, deathstar, lightsab,...        106         20   \n",
       "3  [fathersonrelationship, harbor, underwat, grea...         24        104   \n",
       "4  [vietnamveteran, hippi, mentallydis, run, base...         66        131   \n",
       "\n",
       "                                           director  \\\n",
       "0     [allisonanders, allisonanders, allisonanders]   \n",
       "1  [stephenhopkins, stephenhopkins, stephenhopkins]   \n",
       "2           [georgelucas, georgelucas, georgelucas]   \n",
       "3     [andrewstanton, andrewstanton, andrewstanton]   \n",
       "4  [robertzemeckis, robertzemeckis, robertzemeckis]   \n",
       "\n",
       "                                                soup  \n",
       "0  hotel newyear'sev witch bet hotelroom sperm lo...  \n",
       "1  chicago drugdeal boxingmatch escap onenight em...  \n",
       "2  android galaxi hermit deathstar lightsab jedi ...  \n",
       "3  fathersonrelationship harbor underwat greatbar...  \n",
       "4  vietnamveteran hippi mentallydis run basedonno...  "
      ]
     },
     "execution_count": 24,
     "metadata": {},
     "output_type": "execute_result"
    }
   ],
   "source": [
    "md.head()"
   ]
  },
  {
   "cell_type": "code",
   "execution_count": 46,
   "metadata": {},
   "outputs": [],
   "source": [
    "count = CountVectorizer(analyzer='word',ngram_range=(1, 2),min_df=0, stop_words='english')\n",
    "count_matrix = count.fit_transform(md['soup'])"
   ]
  },
  {
   "cell_type": "code",
   "execution_count": 47,
   "metadata": {},
   "outputs": [
    {
     "data": {
      "text/plain": [
       "<22381x198063 sparse matrix of type '<class 'numpy.int64'>'\n",
       "\twith 444820 stored elements in Compressed Sparse Row format>"
      ]
     },
     "execution_count": 47,
     "metadata": {},
     "output_type": "execute_result"
    }
   ],
   "source": [
    "count_matrix"
   ]
  },
  {
   "cell_type": "code",
   "execution_count": 48,
   "metadata": {},
   "outputs": [],
   "source": [
    "from scipy import sparse\n",
    "\n",
    "sparse.save_npz(\"countmatrix.npz\", count_matrix)\n"
   ]
  },
  {
   "cell_type": "code",
   "execution_count": 49,
   "metadata": {},
   "outputs": [],
   "source": [
    "# '''Content Filtering results without taking IMDB votings into account'''\n",
    "# def get_recommendations(title):\n",
    "#     idx = indices[title]\n",
    "#     cosine_sim = linear_kernel(count_matrix[idx], count_matrix)\n",
    "#     sim_scores = list(enumerate(cosine_sim[0]))\n",
    "#     sim_scores = sorted(sim_scores, key=lambda x: x[1], reverse=True)\n",
    "#     sim_scores = sim_scores[1:31]\n",
    "#     movie_indices = [i[0] for i in sim_scores]\n",
    "#     return titles.iloc[movie_indices]\n",
    "\n",
    "# get_recommendations('The Dark Knight').head(10)"
   ]
  },
  {
   "cell_type": "code",
   "execution_count": 50,
   "metadata": {},
   "outputs": [
    {
     "data": {
      "text/plain": [
       "5.158527322282293"
      ]
     },
     "execution_count": 50,
     "metadata": {},
     "output_type": "execute_result"
    }
   ],
   "source": [
    "vote_counts = md[md['vote_count'].notnull()]['vote_count'].astype('int')\n",
    "vote_averages = md[md['vote_average'].notnull()]['vote_average'].astype('int')\n",
    "C = vote_averages.mean()\n",
    "C"
   ]
  },
  {
   "cell_type": "code",
   "execution_count": 51,
   "metadata": {},
   "outputs": [],
   "source": [
    "sim_movie_list = {}"
   ]
  },
  {
   "cell_type": "code",
   "execution_count": 52,
   "metadata": {},
   "outputs": [],
   "source": [
    "def cosine_sim(count_matrix, idx, title):\n",
    "    if(title in sim_movie_list):\n",
    "        #print('call from here')\n",
    "        return sim_movie_list[title]\n",
    "    else:\n",
    "        cosine_sim = linear_kernel(count_matrix[idx], count_matrix)\n",
    "        sim_movie_list[title]= cosine_sim[0]\n",
    "        return cosine_sim[0]\n",
    "\n",
    "def improved_recommendations(title):\n",
    "    idx = indices[title]\n",
    "    \n",
    "    sim_scores = list(enumerate(cosine_sim(count_matrix, idx, title)))\n",
    "    \n",
    "    sim_scores = sorted(sim_scores, key=lambda x: x[1], reverse=True)\n",
    "    sim_scores = sim_scores[1:26]\n",
    "    movie_indices = [i[0] for i in sim_scores]\n",
    "    print(movie_indices)\n",
    "    movies = md.iloc[movie_indices][['title', 'vote_count', 'vote_average', 'year']]\n",
    "    \n",
    "    vote_counts = movies[movies['vote_count'].notnull()]['vote_count'].astype('int')\n",
    "    vote_averages = movies[movies['vote_average'].notnull()]['vote_average'].astype('int')\n",
    "    C = vote_averages.mean()\n",
    "    m = vote_counts.quantile(0.50)\n",
    "    qualified = movies[(movies['vote_count'] >= m) & (movies['vote_count'].notnull()) & (movies['vote_average'].notnull())]\n",
    "    qualified['vote_count'] = qualified['vote_count'].astype('int')\n",
    "    qualified['vote_average'] = qualified['vote_average'].astype('int')\n",
    "    qualified['wr'] = qualified.apply(weighted_rating, axis=1)\n",
    "    qualified = qualified.sort_values('wr', ascending=False).head(10)\n",
    "    return qualified\n",
    "\n",
    "def weighted_rating(x):\n",
    "    m = vote_counts.quantile(0.60)\n",
    "    v = x['vote_count']\n",
    "    R = x['vote_average']\n",
    "    return (v/(v+m) * R) + (m/(m+v) * C)"
   ]
  },
  {
   "cell_type": "code",
   "execution_count": 55,
   "metadata": {},
   "outputs": [
    {
     "name": "stdout",
     "output_type": "stream",
     "text": [
      "[17160, 10929, 21, 119, 377, 2642, 16733, 12119, 208, 11168, 21656, 185, 477, 628, 638, 763, 1433, 1447, 1733, 3484, 10326, 10644, 12238, 13303, 15183]\n"
     ]
    },
    {
     "name": "stderr",
     "output_type": "stream",
     "text": [
      "/usr/local/lib/python3.7/site-packages/ipykernel_launcher.py:26: SettingWithCopyWarning: \n",
      "A value is trying to be set on a copy of a slice from a DataFrame.\n",
      "Try using .loc[row_indexer,col_indexer] = value instead\n",
      "\n",
      "See the caveats in the documentation: http://pandas.pydata.org/pandas-docs/stable/indexing.html#indexing-view-versus-copy\n",
      "/usr/local/lib/python3.7/site-packages/ipykernel_launcher.py:27: SettingWithCopyWarning: \n",
      "A value is trying to be set on a copy of a slice from a DataFrame.\n",
      "Try using .loc[row_indexer,col_indexer] = value instead\n",
      "\n",
      "See the caveats in the documentation: http://pandas.pydata.org/pandas-docs/stable/indexing.html#indexing-view-versus-copy\n",
      "/usr/local/lib/python3.7/site-packages/ipykernel_launcher.py:28: SettingWithCopyWarning: \n",
      "A value is trying to be set on a copy of a slice from a DataFrame.\n",
      "Try using .loc[row_indexer,col_indexer] = value instead\n",
      "\n",
      "See the caveats in the documentation: http://pandas.pydata.org/pandas-docs/stable/indexing.html#indexing-view-versus-copy\n"
     ]
    },
    {
     "data": {
      "text/html": [
       "<div>\n",
       "<style scoped>\n",
       "    .dataframe tbody tr th:only-of-type {\n",
       "        vertical-align: middle;\n",
       "    }\n",
       "\n",
       "    .dataframe tbody tr th {\n",
       "        vertical-align: top;\n",
       "    }\n",
       "\n",
       "    .dataframe thead th {\n",
       "        text-align: right;\n",
       "    }\n",
       "</style>\n",
       "<table border=\"1\" class=\"dataframe\">\n",
       "  <thead>\n",
       "    <tr style=\"text-align: right;\">\n",
       "      <th></th>\n",
       "      <th>title</th>\n",
       "      <th>vote_count</th>\n",
       "      <th>vote_average</th>\n",
       "      <th>year</th>\n",
       "      <th>wr</th>\n",
       "    </tr>\n",
       "  </thead>\n",
       "  <tbody>\n",
       "    <tr>\n",
       "      <th>17160</th>\n",
       "      <td>Interstellar</td>\n",
       "      <td>11187</td>\n",
       "      <td>8</td>\n",
       "      <td>2014</td>\n",
       "      <td>7.995182</td>\n",
       "    </tr>\n",
       "    <tr>\n",
       "      <th>377</th>\n",
       "      <td>The Prestige</td>\n",
       "      <td>4510</td>\n",
       "      <td>8</td>\n",
       "      <td>2006</td>\n",
       "      <td>7.988079</td>\n",
       "    </tr>\n",
       "    <tr>\n",
       "      <th>21</th>\n",
       "      <td>Memento</td>\n",
       "      <td>4168</td>\n",
       "      <td>8</td>\n",
       "      <td>2000</td>\n",
       "      <td>7.987106</td>\n",
       "    </tr>\n",
       "    <tr>\n",
       "      <th>10929</th>\n",
       "      <td>The Dark Knight Rises</td>\n",
       "      <td>9263</td>\n",
       "      <td>7</td>\n",
       "      <td>2012</td>\n",
       "      <td>6.996231</td>\n",
       "    </tr>\n",
       "    <tr>\n",
       "      <th>12119</th>\n",
       "      <td>Looper</td>\n",
       "      <td>4777</td>\n",
       "      <td>6</td>\n",
       "      <td>2012</td>\n",
       "      <td>5.996666</td>\n",
       "    </tr>\n",
       "    <tr>\n",
       "      <th>628</th>\n",
       "      <td>X-Men Origins: Wolverine</td>\n",
       "      <td>4086</td>\n",
       "      <td>6</td>\n",
       "      <td>2009</td>\n",
       "      <td>5.996105</td>\n",
       "    </tr>\n",
       "    <tr>\n",
       "      <th>208</th>\n",
       "      <td>The Matrix Reloaded</td>\n",
       "      <td>3500</td>\n",
       "      <td>6</td>\n",
       "      <td>2003</td>\n",
       "      <td>5.995457</td>\n",
       "    </tr>\n",
       "    <tr>\n",
       "      <th>477</th>\n",
       "      <td>The Island</td>\n",
       "      <td>1813</td>\n",
       "      <td>6</td>\n",
       "      <td>2005</td>\n",
       "      <td>5.991273</td>\n",
       "    </tr>\n",
       "    <tr>\n",
       "      <th>185</th>\n",
       "      <td>Starship Troopers</td>\n",
       "      <td>1584</td>\n",
       "      <td>6</td>\n",
       "      <td>1997</td>\n",
       "      <td>5.990026</td>\n",
       "    </tr>\n",
       "    <tr>\n",
       "      <th>1733</th>\n",
       "      <td>Mad Max</td>\n",
       "      <td>1235</td>\n",
       "      <td>6</td>\n",
       "      <td>1979</td>\n",
       "      <td>5.987250</td>\n",
       "    </tr>\n",
       "  </tbody>\n",
       "</table>\n",
       "</div>"
      ],
      "text/plain": [
       "                          title  vote_count  vote_average  year        wr\n",
       "17160              Interstellar       11187             8  2014  7.995182\n",
       "377                The Prestige        4510             8  2006  7.988079\n",
       "21                      Memento        4168             8  2000  7.987106\n",
       "10929     The Dark Knight Rises        9263             7  2012  6.996231\n",
       "12119                    Looper        4777             6  2012  5.996666\n",
       "628    X-Men Origins: Wolverine        4086             6  2009  5.996105\n",
       "208         The Matrix Reloaded        3500             6  2003  5.995457\n",
       "477                  The Island        1813             6  2005  5.991273\n",
       "185           Starship Troopers        1584             6  1997  5.990026\n",
       "1733                    Mad Max        1235             6  1979  5.987250"
      ]
     },
     "execution_count": 55,
     "metadata": {},
     "output_type": "execute_result"
    }
   ],
   "source": [
    "improved_recommendations('Inception')"
   ]
  },
  {
   "cell_type": "code",
   "execution_count": null,
   "metadata": {},
   "outputs": [],
   "source": []
  },
  {
   "cell_type": "code",
   "execution_count": null,
   "metadata": {},
   "outputs": [],
   "source": []
  },
  {
   "cell_type": "code",
   "execution_count": null,
   "metadata": {},
   "outputs": [],
   "source": []
  }
 ],
 "metadata": {
  "kernelspec": {
   "display_name": "Python 3",
   "language": "python",
   "name": "python3"
  },
  "language_info": {
   "codemirror_mode": {
    "name": "ipython",
    "version": 3
   },
   "file_extension": ".py",
   "mimetype": "text/x-python",
   "name": "python",
   "nbconvert_exporter": "python",
   "pygments_lexer": "ipython3",
   "version": "3.7.4"
  }
 },
 "nbformat": 4,
 "nbformat_minor": 4
}
